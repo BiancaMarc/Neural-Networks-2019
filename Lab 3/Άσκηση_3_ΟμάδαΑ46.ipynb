{
  "nbformat": 4,
  "nbformat_minor": 0,
  "metadata": {
    "colab": {
      "name": "Άσκηση 3 Εκφώνηση - Βελτιστοποίηση με ΓΑ.ipynb",
      "version": "0.3.2",
      "provenance": [],
      "collapsed_sections": []
    },
    "kernelspec": {
      "language": "python",
      "display_name": "Python 2 with Spark 2.1",
      "name": "python2-spark21"
    }
  },
  "cells": [
    {
      "metadata": {
        "id": "WOGNfZyJs7ds",
        "colab_type": "text"
      },
      "cell_type": "markdown",
      "source": [
        "#Ονομαεπώνυμο: Μαρκουλέσκου Έλενα-Μπιάνκα\n",
        "#Αρ. Μητρώου: 03115126\n",
        "#Ομάδα: Α46"
      ]
    },
    {
      "metadata": {
        "collapsed": true,
        "id": "OKYwhxKzCG1S",
        "colab_type": "text"
      },
      "cell_type": "markdown",
      "source": [
        "# Άσκηση 3: Βελτιστοποίηση συναρτήσεων με Γενετικούς Αλγόριθμους\n",
        "\n",
        "<img src=\"http://infinity77.net/global_optimization/_images/Alpine01.png\" alt=\"Alpine01\" style=\"width: 500px;\"/>\n",
        "\n",
        "Στόχος της άσκησης είναι η βελτιστοποίηση συναρτήσεων χωρίς παραγώγους (derivative free optimization) με χρήση Γενετικών Αλγόριθμων μέσω της βιβλιοθήκης DEAP."
      ]
    },
    {
      "metadata": {
        "id": "bS3ImgTFUuiR",
        "colab_type": "text"
      },
      "cell_type": "markdown",
      "source": [
        "## Συναρτήσεις προς βελτιστοποίηση\n",
        "\n",
        "Καλούμαστε να **ελαχιστοποιήσουμε** τις συναρτήσεις **(60)Gulf Research Problem** (1o Μέρος) και **Csendes Function** (2ο Μέρος) "
      ]
    },
    {
      "metadata": {
        "id": "ogvBN476vTLm",
        "colab_type": "code",
        "colab": {
          "base_uri": "https://localhost:8080/",
          "height": 178
        },
        "outputId": "478ec9a1-5f11-47a2-d383-6799cd7a94d2"
      },
      "cell_type": "code",
      "source": [
        "!pip install deap"
      ],
      "execution_count": 2,
      "outputs": [
        {
          "output_type": "stream",
          "text": [
            "Collecting deap\n",
            "\u001b[?25l  Downloading https://files.pythonhosted.org/packages/af/29/e7f2ecbe02997b16a768baed076f5fc4781d7057cd5d9adf7c94027845ba/deap-1.2.2.tar.gz (936kB)\n",
            "\u001b[K    100% |████████████████████████████████| 942kB 19.2MB/s \n",
            "\u001b[?25hBuilding wheels for collected packages: deap\n",
            "  Building wheel for deap (setup.py) ... \u001b[?25ldone\n",
            "\u001b[?25h  Stored in directory: /root/.cache/pip/wheels/22/ea/bf/dc7c8a2262025a0ab5da9ef02282c198be88902791ca0c6658\n",
            "Successfully built deap\n",
            "Installing collected packages: deap\n",
            "Successfully installed deap-1.2.2\n"
          ],
          "name": "stdout"
        }
      ]
    },
    {
      "metadata": {
        "id": "2j7jyiTlsyQy",
        "colab_type": "code",
        "colab": {}
      },
      "cell_type": "code",
      "source": [
        "import numpy as np\n",
        "import math\n",
        "import time\n",
        "from deap import base, creator, tools, algorithms"
      ],
      "execution_count": 0,
      "outputs": []
    },
    {
      "metadata": {
        "id": "SItuD2XYU6Sd",
        "colab_type": "text"
      },
      "cell_type": "markdown",
      "source": [
        "\n",
        "## Μέρος 1. Βελτιστοποίηση μη κλιμακούμενης συνάρτησης\n"
      ]
    },
    {
      "metadata": {
        "id": "EHYGQ-5gna-k",
        "colab_type": "text"
      },
      "cell_type": "markdown",
      "source": [
        "Η συνάρτηση προς ελαχιστοποίηση για αυτό το πρόβλημα είναι η **Gulf Research Problem** η οποία ορίζεται ως εξής:\n",
        "\n",
        "$ f(x) = \\sum_{i=0}^{99}[exp(\\frac{-(u_i-x_2)^{x_3}}{x_1})-0.01i]^2$ \n",
        "\n",
        "με $u_i=25+[-50ln(0.01i)]^{1/1.5}$ \n",
        "\n",
        "και $0.1 \\leq x_1 \\leq 100, 0 \\leq x_2 \\leq 25.6, 0 \\leq x_3 \\leq 5$\n",
        "\n",
        "Η παραπάνω συνάρτηση έχει ελάχιστο $f(X)=0$ για $X=[50,25,1.5]$"
      ]
    },
    {
      "metadata": {
        "id": "YRHIP3FHU9r3",
        "colab_type": "text"
      },
      "cell_type": "markdown",
      "source": [
        "\n",
        "### Εύρεση βέλτιστου συνδυασμού τελεστών - στρατηγικής\n"
      ]
    },
    {
      "metadata": {
        "id": "4pxFRAFbr8v3",
        "colab_type": "text"
      },
      "cell_type": "markdown",
      "source": [
        "Επειδή στις διαφορετικές διαστάσεις έχουμε και διαφορετικούς περιορισμούς ορίζουμε την παρακάτω συνάρτηση **InitIndividual()** η οποία θα μας βοηθήσει να αρχικοποιήσουμε τον πληθυσμό μας με τις κατάλληλες τιμές.\n",
        "\n",
        "Επειδή η συνάρτησή μας έχει 3 μεταβλητές προφανώς το κάθε άτομο του πληθυσμού θα αποτελείται από 3 γονίδια.\n"
      ]
    },
    {
      "metadata": {
        "id": "Gm4BYG0hvufq",
        "colab_type": "code",
        "colab": {}
      },
      "cell_type": "code",
      "source": [
        "def InitIndividual():\n",
        "  #dimension 1\n",
        "  x1min = 0.1\n",
        "  x1max = 100\n",
        "  \n",
        "  #dimension 2\n",
        "  x2min = 0\n",
        "  x2max = 25.6\n",
        "  \n",
        "  #dimension 3\n",
        "  x3min = 0\n",
        "  x3max = 5\n",
        "  \n",
        "  ind1 = np.random.uniform(x1min, x1max)\n",
        "  ind2 = np.random.uniform(x2min, x2max)\n",
        "  ind3 = np.random.uniform(x3min, x3max)\n",
        "  \n",
        "  return ind1, ind2, ind3"
      ],
      "execution_count": 0,
      "outputs": []
    },
    {
      "metadata": {
        "id": "mvEcqECfsk7_",
        "colab_type": "text"
      },
      "cell_type": "markdown",
      "source": [
        "Στη συνέχεια ορίζουμε τη Fitenss1 η οποία κληρονομεί απ' τη base.Fitness και ορίζουμε το βάρος της ως **-1.0** αφού πρόκειται για ελαχιστοποίηση. Ο Individual θα κληρονομεί από τον IndividualContainer και θα είναι μια **λίστα** με fitness όπως ορίσαμε παραπάνω. Θα αρχικοποιείται μέσω της παραπάνω συνάρτησης. Ο πλυθυσμός θα είναι μια λίστα από Individuals."
      ]
    },
    {
      "metadata": {
        "id": "neSyCSADf0LZ",
        "colab_type": "code",
        "colab": {}
      },
      "cell_type": "code",
      "source": [
        "numVariables = 3 \n",
        "\n",
        "creator.create( \"Fitness1\", base.Fitness , weights=(-1.0,))\n",
        "creator.create( \"IndividualContainer\", list, fitness= creator.Fitness1)\n",
        "\n",
        "toolbox1 = base.Toolbox()\n",
        "toolbox1.register( \"InitialValues\", InitIndividual)\n",
        "toolbox1.register( \"indiv\", tools.initIterate, creator.IndividualContainer, toolbox1.InitialValues)\n",
        "toolbox1.register( \"population\", tools.initRepeat, list , toolbox1.indiv)\n",
        "\n"
      ],
      "execution_count": 0,
      "outputs": []
    },
    {
      "metadata": {
        "id": "56bVBh1H2lI_",
        "colab_type": "code",
        "colab": {
          "base_uri": "https://localhost:8080/",
          "height": 35
        },
        "outputId": "39e7d706-2eed-4132-d03b-6d4de2a9b6e0"
      },
      "cell_type": "code",
      "source": [
        "ind = toolbox1.indiv()\n",
        "print(ind)"
      ],
      "execution_count": 5,
      "outputs": [
        {
          "output_type": "stream",
          "text": [
            "[33.573713980078956, 14.884355666327892, 1.95512158579779]\n"
          ],
          "name": "stdout"
        }
      ]
    },
    {
      "metadata": {
        "id": "UCiiTnf9YrT7",
        "colab_type": "text"
      },
      "cell_type": "markdown",
      "source": [
        "Υλοποιούμε τη συνάρτηση **evalGulfProblem()** όπως ορίστηκε παραπάνω η οποία αποτελεί τη συνάρτηση καταλληλότητας. Παρατηρούμε πως για $Χ=[50,25,1.5]$ η συνάρτηση δε μας δίνει ακριβώς το ελάχιστο που περιμένουμε, ωστόσο η απόκλιση είναι αμελητέα. Την τροποποιούμε με τη DeltaPenalty. H συνάρτηση εγκυρότητας είναι η **feasible()** η οποία ορίζει πως ένα άτομο είναι έγκυρο αν όλα του τα γονίδια βρίσκονται εντός των περιορισμών. Για τα μη έγκυρα άτομα ορίζουμε τη **distance()** η οποία επιστρέφει την ευκλείδια απόσταση από τα αντίστοιχα άκρα των διαστημάτων. "
      ]
    },
    {
      "metadata": {
        "id": "8oW5vvCWl9sL",
        "colab_type": "code",
        "colab": {}
      },
      "cell_type": "code",
      "source": [
        "def u(i):\n",
        "  return 25+(-50*math.log(0.01*i))**(1/1.5)\n",
        "\n",
        "\n",
        "def evalGulfProblem( indiv ):\n",
        "  summ = 0\n",
        "  for i in range (1, 100):\n",
        "    summ = summ + (math.exp(-((u(i)-indiv[1])**indiv[2])/indiv[0])-0.01*i)**2\n",
        "  return (summ,)\n"
      ],
      "execution_count": 0,
      "outputs": []
    },
    {
      "metadata": {
        "id": "WrPpY8oBKxSf",
        "colab_type": "code",
        "colab": {
          "base_uri": "https://localhost:8080/",
          "height": 35
        },
        "outputId": "4a09ebda-71a9-4226-d65f-c459c00dc5dc"
      },
      "cell_type": "code",
      "source": [
        "a = evalGulfProblem([50,25,1.5])\n",
        "print(a)"
      ],
      "execution_count": 7,
      "outputs": [
        {
          "output_type": "stream",
          "text": [
            "(8.46641812818167e-31,)\n"
          ],
          "name": "stdout"
        }
      ]
    },
    {
      "metadata": {
        "id": "mdXA-9YdMCs8",
        "colab_type": "code",
        "colab": {}
      },
      "cell_type": "code",
      "source": [
        "#dimension 1\n",
        "x1min = 0.1\n",
        "x1max = 100\n",
        "  \n",
        "#dimension 2\n",
        "x2min = 0\n",
        "x2max = 25.6\n",
        "  \n",
        "#dimension 3\n",
        "x3min = 0\n",
        "x3max = 5\n",
        "  \n",
        "MIN_BOUND = np.array([x1min, x2min, x3min])\n",
        "MAX_BOUND = np.array([x1max, x2max, x3max])\n",
        "#print(MIN_BOUND)\n",
        "#print(MAX_BOUND)\n",
        "\n",
        "def feasible( indiv ):\n",
        "    if any(indiv < MIN_BOUND) or any(indiv > MAX_BOUND):\n",
        "        return False\n",
        "    return True\n",
        "\n",
        "def distance( indiv ) :\n",
        "    dist = 0.0\n",
        "    for i in range (len( indiv )) :\n",
        "        penalty = 0\n",
        "        if ( indiv [i] < MIN_BOUND[i]) : penalty = (MIN_BOUND[i] - indiv[i])**2\n",
        "        if ( indiv [i] > MAX_BOUND[i]) : penalty = (indiv[i] - MAX_BOUND[i])**2\n",
        "        dist = dist + penalty\n",
        "    dist=np.sqrt(dist)\n",
        "    return dist"
      ],
      "execution_count": 0,
      "outputs": []
    },
    {
      "metadata": {
        "id": "TMy3e4oBPMgt",
        "colab_type": "code",
        "colab": {}
      },
      "cell_type": "code",
      "source": [
        "toolbox1.register( \"evaluate\", evalGulfProblem)\n",
        "toolbox1.decorate( \"evaluate\", tools.DeltaPenality(feasible, [200, 50, 10], distance))"
      ],
      "execution_count": 0,
      "outputs": []
    },
    {
      "metadata": {
        "id": "_QzYohvnb7K5",
        "colab_type": "text"
      },
      "cell_type": "markdown",
      "source": [
        "Για να διαλέξουμε την **κατάλληλη στρατηγική** θα χρειαστεί να ορίσουμε τις ακόλουθες συναρτήσεις:\n",
        "\n",
        "\n",
        "---\n",
        "\n",
        "\n",
        "**register_toolbox**: Δέχεται ως όρισμα ένα toolbox και ανάλογα με το 2ο και 3ο όρισμα διαλέγει για αυτό το toolbox μια απ' τις δύο μεθόδους διασταύρωσης και μετάλλαξης. Για τα παραδείγματά μας έχουμε διαλέξει τις εξής μεθόδους:\n",
        "\n",
        "**Διασταύρωση**\n",
        "*   **cxUniform**: Πραγματοποιεί μια ομοιόμορφη διασταύρωση ανάμεσα σε 2 άτομα. Η πιθανόητα indpb είναι η πιθανότητα του κάθε γονιδίου να διασταυρωθεί, σε περίπτωση που δύο άτομα επιλεγούν για διασταύρωση.\n",
        "*   **cxBlend**: Aνακατεύει το γενετικό υλικό των γονέων $x_1$ και $x_2$ σε κάθε διάσταση $i$ με τυχαίο τρόπο και ανάλογο της παραμέτρου $\\alpha$, όπως έχει οριστεί στο εργαστήριο. Μεγαλύτερο $α$ δίνει μεγαλύτερη ανάμιξη του γενετικού υλικού.\n",
        "\n",
        "**Μετάλλαξη**\n",
        "* **mutGaussian**: Πραγματοποιεί Γκαουσιανή μετάλλαξη με μέσο mu και τυπική απόκλιση sigma. Ως mu ορίζουμε τα μέσα των διαστημάτων για τα οποία ορίζεται η συνάρτησή μας και ως sigma θέτουμε 1.0. Η πιθανόητα indpb είναι η πιθανότητα του κάθε γονιδίου ξεχωριστά να μεταλλαχτεί, σε περίπτωση που επιλεγεί σε μετάλλαξη.\n",
        "* **mutUniformInt**: Αντικαθιστά το κάθε γονίδιο του ατόμου (με πιθανότητα indpb) με έναν ακέραιο αριθμό από το διάστημα [low,high] που ορίσαμε ως τις ακέραιες προσεγγίσεις των διαστημάτων για τα οποία η συνάρτησή μας ορίζεται. Διαλέξαμε αυτόν τον τελεστή διότι το ελάχιστο του Gulf Research Problem βρίσκεται στο [50,25,1.5], δηλαδή οι 2 από τις 3 συντεταγμένες είναι ακέραιοι αριθμοί. Έτσι συμπεράναμε την καταλληλότητα αυτού του τελεστή.\n",
        "\n",
        "Τα υπόλοιπα ορίσματα της register_toolbox αφορούν στις υπερπαραμέτρους που δέχονται οι μέθοδοι διασταύρωσης και μετάλλαξης καθώς και ο τελεστής επιλογής selTournament.\n",
        "\n",
        "---\n",
        "**rounds_analysis()**: Αυτή είναι η κύρια συνάρτησή μας. Για συγκεκριμένο αρχικό πληθυσμό του toolboox η συνάρτηση αυτή τρέχει έναν από τους 3 αλγορίθμους τους οποίους καλούμαστε να δοκιμάσουμε για συγκεκριμένους γύρους, κρατώντας παράλληλα τα στατιστικά στοιχεία (τις γενιές, τις αποτιμήσεις καταλληλότητας και το min) και το χρόνο εκτέλεσης του κάθε αλγορίθμου. Στο τέλος των γύρων βρίσκει τον μέσο όρο των ελαχίστων (σε κάθε γύρο το ελάχιστο είναι το τελευταίο στοιχείο της στήλης \"min\" του Logbook), καθώς και το μέσο όρο των αποτιμήσεων όλων των γενιών κάθε γύρου αλλά και του χρόνου. \n",
        "\n",
        "Αν το avg_min είναι μικρότερο από μια τιμή **GOAL+DELTA** που ορίζουμε εκ των προτέρων τότε σημειώνουμε την επιτυχία αυξάνοντας τη μεταβλητή *successes* και ψάχνουμε να βρούμε την πρώτη γενιά και τιμή για την οποία ο μέσος όρος έπεσε κάτω από *GOAL+DELTA*. Σημειώνουμε τη γενιά, τη μικρότερη τιμή αυτή και τις συνολικές αποτιμήσεις μέχρι εκείνο το σημείο. Στο τέλος των γύρων βρίσκουμε τις μέσες τιμές, αν αυτές ορίζονται.\n",
        "\n",
        "Γυρίζουμε τις παραπάνω τιμές έτσι ώστε να μπορέσουμε να τις εισάγουμε σε συγκεντρωτικό πίνακα.\n",
        "___\n",
        "**update_stats()**: Ενημερώνει τον πίνακα χαρακτήρων *statistics* με τις παραπάνω τιμές και με μορφή όπως στο παράδειγμα που δώθηκε στην εκφώνηση. \n",
        "\n",
        "Σημειώνουμε εδώ πως ο πίνακας αυτός έχει αρχικές τιμές *None*, οποίες παραμένουν *None* στις στήλεις *s.avg.min, s.avg.evals, s.avg.gens* στην περίπτωση που η παραπάνω συνάρτηση δε σημειώσει καμία επιτυχία.\n",
        "___\n",
        "**print_stats()**: Τυπώνει τον παραπάνω πίνακα, αφού πρώτα τον μετατρέψει σε pandas DataFrame και του προσθέσει κατάλληλες ετικέτες στην πρώτη γραμμή. Η μετατροπή σε DataFrame μας εξυπηρετεί στο να μπορέσουμε να αποθηκεύσουμε ολόκληρο τον πίνακα σε csv, σε περίπτωση που το επιθυμούμε, και να τον έχουμε για πιθανή μελλοντική χρήση. \n",
        "\n",
        "Η επέκταση .to_string() στην προτελευταία γραμμή χρησιμεύει στο να εμφανίζεται ο πίνακας στην οθόνη με ωραίο τρόπο.\n",
        "___\n",
        "**evolve()**: Για συγκεκριμένους συνδυασμούς τελεστών διασταύρωσης και μετάλλαξης, η evolve() αναλαμβάνει να τρέξει τις παραπάνω συναρτήσεις για όλους τους δυνατούς συνδυασμούς υπερπαραμέτρων (Low, High) και γενετικών αλγορίθμων. Φροντίζει παράλληλα να μορφοποιεί τις ονομασίες της κάθε στρατηγικής έτσι ώστε να μπορούν να περαστούν με κατάλληλο τρόπο στον συγκεντρωτικό πίνακα."
      ]
    },
    {
      "metadata": {
        "id": "pTAKi6KJPmng",
        "colab_type": "code",
        "colab": {}
      },
      "cell_type": "code",
      "source": [
        "def register_toolbox(toolbox, cx, mut, cxindpb, mutindpb, toursize):\n",
        "  if(cx == 'cxUniform'):\n",
        "    toolbox.register( \"mate\", tools.cxUniform, indpb = cxindpb)\n",
        "  elif(cx == 'cxBlend'):\n",
        "    toolbox.register( \"mate\", tools.cxBlend, alpha = cxindpb)\n",
        "    \n",
        "  if(mut == 'mutGaussian'):\n",
        "    toolbox.register( \"mutate\", tools.mutGaussian, mu = [49.95, 12.8, 2.5], sigma = 1.0, indpb = mutindpb)\n",
        "  elif(mut == 'mutUniformInt'):\n",
        "    toolbox.register( \"mutate\", tools.mutUniformInt, low = [0, 0, 0], up = [100,26, 5], indpb = mutindpb)\n",
        "    \n",
        "  toolbox.register( \"select\", tools.selTournament, tournsize = toursize)"
      ],
      "execution_count": 0,
      "outputs": []
    },
    {
      "metadata": {
        "id": "sjYeo6VnqEZz",
        "colab_type": "code",
        "colab": {}
      },
      "cell_type": "code",
      "source": [
        "def rounds_analysis(rounds, toolbox, algorithm):\n",
        "  times = []\n",
        "  mins = []\n",
        "  evals = []\n",
        "  gens = []\n",
        "  gen_mins = []\n",
        "  gen_evals = []\n",
        "  \n",
        "  goal_delta = 0+0.1\n",
        "  #print(goal_delta)\n",
        "  successes = 0\n",
        "  for i in range(rounds):\n",
        "    \n",
        "    pop = toolbox.population(n=150)\n",
        "    hof = tools.HallOfFame(1)\n",
        "    stats = tools.Statistics(lambda ind: ind.fitness.values)\n",
        "    stats.register(\"min\", np.min)\n",
        "    \n",
        "    if(algorithm == 'eaSimple'):\n",
        "      start_time = time.time()\n",
        "      pop, log = algorithms.eaSimple(pop, toolbox, cxpb=0.8, mutpb=0.2, ngen=100, stats=stats, halloffame=hof, verbose=False)\n",
        "      round_time = time.time() - start_time\n",
        "    elif(algorithm == 'eaMuPlusLambda'):\n",
        "      start_time = time.time()\n",
        "      pop, log = algorithms.eaMuPlusLambda(pop, toolbox, mu = 30, lambda_ = 120, cxpb=0.8, mutpb=0.2, ngen=100, stats=stats, halloffame=hof, verbose=False)\n",
        "      round_time = time.time() - start_time\n",
        "    elif(algorithm == 'eaMuCommaLambda'):\n",
        "      start_time = time.time()\n",
        "      pop, log = algorithms.eaMuCommaLambda(pop, toolbox, mu = 30, lambda_ = 120, cxpb=0.8, mutpb=0.2, ngen=100, stats=stats, halloffame=hof, verbose=False)\n",
        "      round_time = time.time() - start_time\n",
        "    \n",
        "    times.append(round_time)\n",
        "    minn = log.select(\"min\")\n",
        "    mins.append(minn[-1])\n",
        "    evs = log.select(\"nevals\")\n",
        "    evals += evs\n",
        "    if(minn[-1]<=goal_delta):\n",
        "      #print(\"Success!\")\n",
        "      successes += 1\n",
        "      for j in range (len(minn)):\n",
        "        if(minn[j] <= goal_delta):\n",
        "          gens.append(j+1)\n",
        "          gen_mins.append(minn[j])\n",
        "          gen_evals += evs[:j+1]\n",
        "          break;\n",
        "    \n",
        "    \n",
        "  avg_time = np.mean(times)\n",
        "  avg_min = np.mean(mins)\n",
        "  avg_evals = sum(evals)/rounds\n",
        "  \n",
        "  if successes == 0:\n",
        "    s_gens = None;\n",
        "    s_avg_min = None;\n",
        "    s_avg_evals = None;\n",
        "  else:\n",
        "    s_gens = int(np.mean(gens))\n",
        "    s_avg_min = sum(gen_mins)/len(gen_mins)\n",
        "    s_avg_evals = sum(gen_evals)/rounds\n",
        "  \n",
        "  \n",
        "  \n",
        "  return avg_time, avg_min, avg_evals, successes, s_gens, s_avg_min, s_avg_evals\n",
        "    "
      ],
      "execution_count": 0,
      "outputs": []
    },
    {
      "metadata": {
        "id": "3wybZ-t2fGJ4",
        "colab_type": "code",
        "colab": {}
      },
      "cell_type": "code",
      "source": [
        "statistics = np.chararray([96,9], itemsize=100)\n",
        "statistics.fill(None)\n",
        "d1=0\n",
        "d2=0"
      ],
      "execution_count": 0,
      "outputs": []
    },
    {
      "metadata": {
        "id": "jGisqCB9fbSz",
        "colab_type": "code",
        "colab": {}
      },
      "cell_type": "code",
      "source": [
        "def update_stats(operator, strategy, successes, s_avg_min, s_avg_evals, s_avg_gens, avg_evals, avg_min, avg_time):\n",
        "  global d1\n",
        "  global d2\n",
        "  global statistics\n",
        "  statistics[d1][d2] = operator\n",
        "  statistics[d1][d2+1] = strategy\n",
        "  statistics[d1][d2+2] = successes\n",
        "  if(s_avg_min!=None):\n",
        "    statistics[d1][d2+3] = '%.3e'%s_avg_min\n",
        "    statistics[d1][d2+4] = s_avg_evals\n",
        "    statistics[d1][d2+5] = s_avg_gens\n",
        "  statistics[d1][d2+6] = avg_evals\n",
        "  statistics[d1][d2+7] = '%.3e'%avg_min\n",
        "  statistics[d1][d2+8] = '%.4g'%avg_time\n",
        "  \n",
        "  d1 += 1\n",
        "  d2=0\n",
        "  "
      ],
      "execution_count": 0,
      "outputs": []
    },
    {
      "metadata": {
        "id": "F1-tS5PYgQMo",
        "colab_type": "code",
        "colab": {}
      },
      "cell_type": "code",
      "source": [
        "def print_stats(stats):\n",
        "  import pandas\n",
        "  headers = ['operators', 'strategy', 'successes', 's.avg.min', 's.avg.evals', 's.avg.gens', 'avg.evals', 'avg.min', 'avg.time']\n",
        "  df = pandas.DataFrame(stats, columns = headers)\n",
        "  print(df.to_string())\n",
        "  return df"
      ],
      "execution_count": 0,
      "outputs": []
    },
    {
      "metadata": {
        "id": "6EPJhDBjnnCw",
        "colab_type": "code",
        "colab": {}
      },
      "cell_type": "code",
      "source": [
        "def evolve(toolbox, mate, mutate, cxarray, mutarray, tourarray):\n",
        "  crit = ['Low', 'High']\n",
        "  alg = ['eaSimple', 'eaMuPlusLambda', 'eaMuCommaLambda']\n",
        "  for algorithm in alg:\n",
        "    for cx in cxarray:\n",
        "      for mut in mutarray:\n",
        "        for toursize in tourarray:\n",
        "          register_toolbox(toolbox, mate, mutate, cx, mut, toursize)\n",
        "          avgt, avgm, avge, succ, gens, minn, evs = rounds_analysis(7, toolbox, algorithm)\n",
        "          operator = mate+crit[cxarray.index(cx)]+','+mutate+crit[mutarray.index(mut)]+',selTournament'+crit[tourarray.index(toursize)]\n",
        "          if (algorithm == 'eaSimple'):\n",
        "            strategy = algorithm+' 150 0.8 0.2'\n",
        "          else:\n",
        "            strategy = algorithm+' 30 120 0.8 0.2'\n",
        "          update_stats(operator, strategy, succ, minn, evs, gens, avge, avgm, avgt)\n",
        "        "
      ],
      "execution_count": 0,
      "outputs": []
    },
    {
      "metadata": {
        "id": "Xn_58A4ktWE5",
        "colab_type": "text"
      },
      "cell_type": "markdown",
      "source": [
        "Για τους τελεστές μετάλλαξης διαλέγουμε υπερπαραμέτρους 0.05 και 0.5 για low και high αντίστοιχα. Για τον cxBlen θα πάρουμε $α=0.1$ και $α=1$ ενώ για τον cxUniform θα πάρουμε πιθανότητες 0.1 και 0.8. Για τον τελεστή επιλογής θα πάρουμε tournsize 3 και 10 αντίστοιχα. Η σταθερά *GOAL+DELTA* θα τεθεί στο 0+0.1.\n",
        "\n",
        "Έχουμε φροντίσει πριν να αρχικοποιήσουμε τον πίνακα *statistics* με τιμές *None* όπως εξηγήσαμε παραπάνω. Συνολικά έχουμε 32 συνδυασμούς τελεστών και 3 αλγορίθμους να εκτελέσουμε, συνεπώς χρειαζόμαστε συνολικά 96 γραμμές. \n",
        "\n",
        "Για τους 3 γενετικούς αλγορίθμους θα χρησιμοποιήσουμε πληθυσμό 150 ατόμων (με mu=30 και lambda_=120 στην περίπτωση των $μ+λ$ και $μ,λ$) και 100 γενιές. Για κάθε στρατηγική θα τρέξουμε 7 γύρους. "
      ]
    },
    {
      "metadata": {
        "id": "pLrO6S0QHMOu",
        "colab_type": "code",
        "colab": {}
      },
      "cell_type": "code",
      "source": [
        "cxarray = [0.1, 0.8]\n",
        "mutarray = [0.05, 0.5]\n",
        "toursize = [3, 10]\n",
        "\n",
        "evolve(toolbox1, 'cxUniform', 'mutGaussian', cxarray, mutarray, toursize)\n",
        "\n",
        "cxarray = [0.1, 0.8]\n",
        "mutarray = [0.05, 0.5]\n",
        "evolve(toolbox1, 'cxUniform', 'mutUniformInt', cxarray, mutarray, toursize)\n",
        "\n",
        "cxarray = [0.1, 1.0]\n",
        "mutarray = [0.05, 0.5]\n",
        "evolve(toolbox1, 'cxBlend', 'mutGaussian', cxarray, mutarray, toursize)\n",
        "\n",
        "cxarray = [0.1, 1.0]\n",
        "mutarray = [0.05, 0.5]\n",
        "evolve(toolbox1, 'cxBlend', 'mutUniformInt', cxarray, mutarray, toursize)\n"
      ],
      "execution_count": 0,
      "outputs": []
    },
    {
      "metadata": {
        "id": "_bVI4UtkCwqi",
        "colab_type": "code",
        "colab": {
          "base_uri": "https://localhost:8080/",
          "height": 1770
        },
        "outputId": "db8ab3de-3f5a-423b-afb7-648f26d701b2"
      },
      "cell_type": "code",
      "source": [
        "df = print_stats(statistics)"
      ],
      "execution_count": 32,
      "outputs": [
        {
          "output_type": "stream",
          "text": [
            "                                            operators                        strategy successes  s.avg.min s.avg.evals s.avg.gens avg.evals    avg.min avg.time\n",
            "0        cxUniformLow,mutGaussianLow,selTournamentLow            eaSimple 150 0.8 0.2         6  4.930e-02         395          3     12746  7.198e-02    2.514\n",
            "1       cxUniformLow,mutGaussianLow,selTournamentHigh            eaSimple 150 0.8 0.2         3  3.158e-02         193          3     12754  1.721e-01     2.66\n",
            "2       cxUniformLow,mutGaussianHigh,selTournamentLow            eaSimple 150 0.8 0.2         5  4.042e-02         539          5     12758  6.172e-02    2.312\n",
            "3      cxUniformLow,mutGaussianHigh,selTournamentHigh            eaSimple 150 0.8 0.2         3  6.528e-02         137          2     12729  1.147e-01    2.422\n",
            "4       cxUniformHigh,mutGaussianLow,selTournamentLow            eaSimple 150 0.8 0.2         4  5.692e-02         232          3     12730  9.322e-02    2.572\n",
            "5      cxUniformHigh,mutGaussianLow,selTournamentHigh            eaSimple 150 0.8 0.2         5  5.728e-02         218          2     12723  1.032e-01    2.692\n",
            "6      cxUniformHigh,mutGaussianHigh,selTournamentLow            eaSimple 150 0.8 0.2         5  5.148e-02         361          3     12746  7.749e-02    2.322\n",
            "7     cxUniformHigh,mutGaussianHigh,selTournamentHigh            eaSimple 150 0.8 0.2         4  6.525e-02         284          3     12749  8.378e-02    2.431\n",
            "8        cxUniformLow,mutGaussianLow,selTournamentLow   eaMuPlusLambda 30 120 0.8 0.2         2  1.619e-02         145          4     12150  9.572e-01    2.631\n",
            "9       cxUniformLow,mutGaussianLow,selTournamentHigh   eaMuPlusLambda 30 120 0.8 0.2         3  5.046e-02         184          3     12150  2.386e-01    2.648\n",
            "10      cxUniformLow,mutGaussianHigh,selTournamentLow   eaMuPlusLambda 30 120 0.8 0.2         6  4.691e-02         591          5     12150  8.894e-02    2.473\n",
            "11     cxUniformLow,mutGaussianHigh,selTournamentHigh   eaMuPlusLambda 30 120 0.8 0.2         4  5.461e-02         462          6     12150  1.285e-01    2.502\n",
            "12      cxUniformHigh,mutGaussianLow,selTournamentLow   eaMuPlusLambda 30 120 0.8 0.2         4  4.365e-02         377          5     12150  1.738e-01    2.646\n",
            "13     cxUniformHigh,mutGaussianLow,selTournamentHigh   eaMuPlusLambda 30 120 0.8 0.2         3  6.463e-02         201          3     12150  1.331e-01    2.717\n",
            "14     cxUniformHigh,mutGaussianHigh,selTournamentLow   eaMuPlusLambda 30 120 0.8 0.2         1  4.967e-03          90          5     12150  3.907e-01    2.494\n",
            "15    cxUniformHigh,mutGaussianHigh,selTournamentHigh   eaMuPlusLambda 30 120 0.8 0.2         5  3.530e-02         210          2     12150  1.083e-01    2.544\n",
            "16       cxUniformLow,mutGaussianLow,selTournamentLow  eaMuCommaLambda 30 120 0.8 0.2         2  4.073e-02         111          3     12150  4.484e-01    2.636\n",
            "17      cxUniformLow,mutGaussianLow,selTournamentHigh  eaMuCommaLambda 30 120 0.8 0.2         1  3.833e-02          55          3     12150  6.038e-01    2.659\n",
            "18      cxUniformLow,mutGaussianHigh,selTournamentLow  eaMuCommaLambda 30 120 0.8 0.2         2  6.783e-02         180          5     12150  7.505e-01    2.483\n",
            "19     cxUniformLow,mutGaussianHigh,selTournamentHigh  eaMuCommaLambda 30 120 0.8 0.2         3  5.581e-02         372          7     12150  2.911e-01    2.505\n",
            "20      cxUniformHigh,mutGaussianLow,selTournamentLow  eaMuCommaLambda 30 120 0.8 0.2         4  5.018e-02         805         11     12150  3.384e-01    2.636\n",
            "21     cxUniformHigh,mutGaussianLow,selTournamentHigh  eaMuCommaLambda 30 120 0.8 0.2         3  5.959e-02         167          3     12150  1.934e-01    2.697\n",
            "22     cxUniformHigh,mutGaussianHigh,selTournamentLow  eaMuCommaLambda 30 120 0.8 0.2         1  9.194e-02         107          6     12150  8.656e-01    2.675\n",
            "23    cxUniformHigh,mutGaussianHigh,selTournamentHigh  eaMuCommaLambda 30 120 0.8 0.2         4  5.272e-02         462          6     12150  9.833e-02    2.534\n",
            "24     cxUniformLow,mutUniformIntLow,selTournamentLow            eaSimple 150 0.8 0.2         5  3.978e-02         375          4     12747  6.980e-02    2.528\n",
            "25    cxUniformLow,mutUniformIntLow,selTournamentHigh            eaSimple 150 0.8 0.2         6  5.071e-02         398          3     12778  5.993e-02     2.67\n",
            "26    cxUniformLow,mutUniformIntHigh,selTournamentLow            eaSimple 150 0.8 0.2         7  5.449e-02        1062          8     12763  2.834e-02    2.541\n",
            "27   cxUniformLow,mutUniformIntHigh,selTournamentHigh            eaSimple 150 0.8 0.2         6  7.100e-02         454          4     12752  7.393e-02    2.672\n",
            "28    cxUniformHigh,mutUniformIntLow,selTournamentLow            eaSimple 150 0.8 0.2         5  3.092e-02         428          4     12769  9.086e-02    2.544\n",
            "29   cxUniformHigh,mutUniformIntLow,selTournamentHigh            eaSimple 150 0.8 0.2         6  6.280e-02         718          6     12736  6.691e-02    2.763\n",
            "30   cxUniformHigh,mutUniformIntHigh,selTournamentLow            eaSimple 150 0.8 0.2         7  5.089e-02         546          4     12784  4.862e-03    2.562\n",
            "31  cxUniformHigh,mutUniformIntHigh,selTournamentHigh            eaSimple 150 0.8 0.2         6  4.840e-02         653          5     12796  2.814e-02    2.697\n",
            "32     cxUniformLow,mutUniformIntLow,selTournamentLow   eaMuPlusLambda 30 120 0.8 0.2         6  5.371e-02        1208         11     12150  3.807e-02    2.639\n",
            "33    cxUniformLow,mutUniformIntLow,selTournamentHigh   eaMuPlusLambda 30 120 0.8 0.2         4  6.881e-02        1011         14     12150  1.064e-01    2.673\n",
            "34    cxUniformLow,mutUniformIntHigh,selTournamentLow   eaMuPlusLambda 30 120 0.8 0.2         2  6.229e-02         608         17     12150  2.181e-01    2.645\n",
            "35   cxUniformLow,mutUniformIntHigh,selTournamentHigh   eaMuPlusLambda 30 120 0.8 0.2         6  4.958e-02         522          4     12150  5.762e-02    2.691\n",
            "36    cxUniformHigh,mutUniformIntLow,selTournamentLow   eaMuPlusLambda 30 120 0.8 0.2         5  4.367e-02         450          5     12150  1.004e-01    2.668\n",
            "37   cxUniformHigh,mutUniformIntLow,selTournamentHigh   eaMuPlusLambda 30 120 0.8 0.2         6  5.412e-02         917          8     12150  9.674e-02    2.695\n",
            "38   cxUniformHigh,mutUniformIntHigh,selTournamentLow   eaMuPlusLambda 30 120 0.8 0.2         4  4.285e-02        1971         28     12150  1.264e-01    2.779\n",
            "39  cxUniformHigh,mutUniformIntHigh,selTournamentHigh   eaMuPlusLambda 30 120 0.8 0.2         7  3.449e-02         630          5     12150  1.722e-02    2.779\n",
            "40     cxUniformLow,mutUniformIntLow,selTournamentLow  eaMuCommaLambda 30 120 0.8 0.2         2  8.464e-02         985         28     12150  2.354e-01    2.648\n",
            "41    cxUniformLow,mutUniformIntLow,selTournamentHigh  eaMuCommaLambda 30 120 0.8 0.2         7  6.924e-02        1470         12     12150  4.080e-02     2.68\n",
            "42    cxUniformLow,mutUniformIntHigh,selTournamentLow  eaMuCommaLambda 30 120 0.8 0.2         4  5.217e-02        2057         29     12150  1.093e-01    2.654\n",
            "43   cxUniformLow,mutUniformIntHigh,selTournamentHigh  eaMuCommaLambda 30 120 0.8 0.2         6  5.468e-02        1431         13     12150  8.852e-02    2.676\n",
            "44    cxUniformHigh,mutUniformIntLow,selTournamentLow  eaMuCommaLambda 30 120 0.8 0.2         3  3.818e-02        1675         32     12150  2.651e-01    2.655\n",
            "45   cxUniformHigh,mutUniformIntLow,selTournamentHigh  eaMuCommaLambda 30 120 0.8 0.2         5  3.220e-02         415          4     12150  4.282e-02     2.68\n",
            "46   cxUniformHigh,mutUniformIntHigh,selTournamentLow  eaMuCommaLambda 30 120 0.8 0.2         6  6.145e-02        1791         17     12150  4.584e-02    2.753\n",
            "47  cxUniformHigh,mutUniformIntHigh,selTournamentHigh  eaMuCommaLambda 30 120 0.8 0.2         6  6.740e-02        1671         16     12150  5.781e-02    2.702\n",
            "48         cxBlendLow,mutGaussianLow,selTournamentLow            eaSimple 150 0.8 0.2         7  3.935e-02        1299         10     12746  3.358e-02    2.517\n",
            "49        cxBlendLow,mutGaussianLow,selTournamentHigh            eaSimple 150 0.8 0.2         7  5.670e-02         387          2     12734  9.104e-03    2.685\n",
            "50        cxBlendLow,mutGaussianHigh,selTournamentLow            eaSimple 150 0.8 0.2         5  5.049e-02        2056         22     12764  1.631e-01    2.306\n",
            "51       cxBlendLow,mutGaussianHigh,selTournamentHigh            eaSimple 150 0.8 0.2         7  5.036e-02         277          2     12776  7.821e-03    2.447\n",
            "52        cxBlendHigh,mutGaussianLow,selTournamentLow            eaSimple 150 0.8 0.2         7  4.994e-02         888          6     12739  8.148e-04    2.457\n",
            "53       cxBlendHigh,mutGaussianLow,selTournamentHigh            eaSimple 150 0.8 0.2         7  4.779e-02         344          2     12746  7.191e-04    2.669\n",
            "54       cxBlendHigh,mutGaussianHigh,selTournamentLow            eaSimple 150 0.8 0.2         7  6.306e-02         741          5     12749  5.168e-04    2.236\n",
            "55      cxBlendHigh,mutGaussianHigh,selTournamentHigh            eaSimple 150 0.8 0.2         7  6.181e-02         382          2     12755  9.383e-04    2.507\n",
            "56         cxBlendLow,mutGaussianLow,selTournamentLow   eaMuPlusLambda 30 120 0.8 0.2         3  6.146e-02         184          3     12150  2.486e-01    2.759\n",
            "57        cxBlendLow,mutGaussianLow,selTournamentHigh   eaMuPlusLambda 30 120 0.8 0.2         7  4.377e-02         527          4     12150  2.285e-02    2.688\n",
            "58        cxBlendLow,mutGaussianHigh,selTournamentLow   eaMuPlusLambda 30 120 0.8 0.2         3  4.849e-02         955         18     12150  3.123e-01    2.481\n",
            "59       cxBlendLow,mutGaussianHigh,selTournamentHigh   eaMuPlusLambda 30 120 0.8 0.2         7  4.414e-02         441          3     12150  3.526e-03    2.519\n",
            "60        cxBlendHigh,mutGaussianLow,selTournamentLow   eaMuPlusLambda 30 120 0.8 0.2         6  7.117e-02        1037          9     12150  2.235e-02    2.601\n",
            "61       cxBlendHigh,mutGaussianLow,selTournamentHigh   eaMuPlusLambda 30 120 0.8 0.2         7  5.885e-02         372          2     12150  1.805e-03     2.67\n",
            "62       cxBlendHigh,mutGaussianHigh,selTournamentLow   eaMuPlusLambda 30 120 0.8 0.2         7  5.797e-02         835          6     12150  1.814e-03     2.44\n",
            "63      cxBlendHigh,mutGaussianHigh,selTournamentHigh   eaMuPlusLambda 30 120 0.8 0.2         7  3.315e-02         527          4     12150  1.262e-03    2.562\n",
            "64         cxBlendLow,mutGaussianLow,selTournamentLow  eaMuCommaLambda 30 120 0.8 0.2         1  1.346e-02          21          1     12150  5.735e-01    2.658\n",
            "65        cxBlendLow,mutGaussianLow,selTournamentHigh  eaMuCommaLambda 30 120 0.8 0.2         5  6.235e-02         415          4     12150  7.942e-02    2.676\n",
            "66        cxBlendLow,mutGaussianHigh,selTournamentLow  eaMuCommaLambda 30 120 0.8 0.2         1  2.750e-02         672         39     12150  4.726e-01    2.479\n",
            "67       cxBlendLow,mutGaussianHigh,selTournamentHigh  eaMuCommaLambda 30 120 0.8 0.2         5  3.573e-02         330          3     12150  2.822e-01    2.533\n",
            "68        cxBlendHigh,mutGaussianLow,selTournamentLow  eaMuCommaLambda 30 120 0.8 0.2         7  5.028e-02         612          4     12150  7.942e-04    2.619\n",
            "69       cxBlendHigh,mutGaussianLow,selTournamentHigh  eaMuCommaLambda 30 120 0.8 0.2         7  5.091e-02         630          5     12150  8.519e-04    2.675\n",
            "70       cxBlendHigh,mutGaussianHigh,selTournamentLow  eaMuCommaLambda 30 120 0.8 0.2         7  6.585e-02        1075          8     12150  1.556e-03    2.392\n",
            "71      cxBlendHigh,mutGaussianHigh,selTournamentHigh  eaMuCommaLambda 30 120 0.8 0.2         7  6.084e-02         767          6     12150  4.592e-04    2.514\n",
            "72       cxBlendLow,mutUniformIntLow,selTournamentLow            eaSimple 150 0.8 0.2         6  8.366e-02        1298         11     12741  6.892e-02    2.535\n",
            "73      cxBlendLow,mutUniformIntLow,selTournamentHigh            eaSimple 150 0.8 0.2         6  7.423e-02        1817         16     12738  6.045e-02    2.787\n",
            "74      cxBlendLow,mutUniformIntHigh,selTournamentLow            eaSimple 150 0.8 0.2         7  5.119e-02         590          4     12768  2.225e-02    2.547\n",
            "75     cxBlendLow,mutUniformIntHigh,selTournamentHigh            eaSimple 150 0.8 0.2         7  6.505e-02        1197          9     12729  1.491e-03    2.678\n",
            "76      cxBlendHigh,mutUniformIntLow,selTournamentLow            eaSimple 150 0.8 0.2         7  5.798e-02         457          3     12718  1.022e-03    2.481\n",
            "77     cxBlendHigh,mutUniformIntLow,selTournamentHigh            eaSimple 150 0.8 0.2         7  5.048e-02         383          2     12759  8.054e-04    2.674\n",
            "78     cxBlendHigh,mutUniformIntHigh,selTournamentLow            eaSimple 150 0.8 0.2         7  4.662e-02         632          4     12751  5.240e-04    2.445\n",
            "79    cxBlendHigh,mutUniformIntHigh,selTournamentHigh            eaSimple 150 0.8 0.2         7  4.464e-02         371          2     12768  1.111e-03    2.714\n",
            "80       cxBlendLow,mutUniformIntLow,selTournamentLow   eaMuPlusLambda 30 120 0.8 0.2         4  5.160e-02         497          7     12150  1.354e-01     2.75\n",
            "81      cxBlendLow,mutUniformIntLow,selTournamentHigh   eaMuPlusLambda 30 120 0.8 0.2         5  4.726e-02         261          2     12150  3.236e-02    2.693\n",
            "82      cxBlendLow,mutUniformIntHigh,selTournamentLow   eaMuPlusLambda 30 120 0.8 0.2         5  3.954e-02         570          6     12150  1.498e-01    2.678\n",
            "83     cxBlendLow,mutUniformIntHigh,selTournamentHigh   eaMuPlusLambda 30 120 0.8 0.2         6  4.480e-02         454          4     12150  2.197e-02    2.707\n",
            "84      cxBlendHigh,mutUniformIntLow,selTournamentLow   eaMuPlusLambda 30 120 0.8 0.2         7  5.126e-02        1058          8     12150  1.043e-03    2.632\n",
            "85     cxBlendHigh,mutUniformIntLow,selTournamentHigh   eaMuPlusLambda 30 120 0.8 0.2         7  2.496e-02         561          4     12150  5.819e-04    2.685\n",
            "86     cxBlendHigh,mutUniformIntHigh,selTournamentLow   eaMuPlusLambda 30 120 0.8 0.2         7  4.082e-02         955          7     12150  1.005e-03    2.621\n",
            "87    cxBlendHigh,mutUniformIntHigh,selTournamentHigh   eaMuPlusLambda 30 120 0.8 0.2         7  5.541e-02         355          2     12150  2.202e-03    2.691\n",
            "88       cxBlendLow,mutUniformIntLow,selTournamentLow  eaMuCommaLambda 30 120 0.8 0.2         2  6.811e-02         197          5     12150  3.260e-01     2.66\n",
            "89      cxBlendLow,mutUniformIntLow,selTournamentHigh  eaMuCommaLambda 30 120 0.8 0.2         4  5.855e-02         342          4     12150  7.798e-02    2.738\n",
            "90      cxBlendLow,mutUniformIntHigh,selTournamentLow  eaMuCommaLambda 30 120 0.8 0.2         4  6.056e-02        2537         36     12150  1.117e-01    2.745\n",
            "91     cxBlendLow,mutUniformIntHigh,selTournamentHigh  eaMuCommaLambda 30 120 0.8 0.2         7  7.130e-02        1830         15     12150  2.708e-02    2.695\n",
            "92      cxBlendHigh,mutUniformIntLow,selTournamentLow  eaMuCommaLambda 30 120 0.8 0.2         7  3.744e-02        1195          9     12150  1.868e-03    2.613\n",
            "93     cxBlendHigh,mutUniformIntLow,selTournamentHigh  eaMuCommaLambda 30 120 0.8 0.2         7  4.167e-02         612          4     12150  8.718e-04    2.676\n",
            "94     cxBlendHigh,mutUniformIntHigh,selTournamentLow  eaMuCommaLambda 30 120 0.8 0.2         7  5.026e-02        1572         12     12150  1.195e-03    2.571\n",
            "95    cxBlendHigh,mutUniformIntHigh,selTournamentHigh  eaMuCommaLambda 30 120 0.8 0.2         7  3.697e-02         664          5     12150  1.483e-03    2.684\n"
          ],
          "name": "stdout"
        }
      ]
    },
    {
      "metadata": {
        "id": "xRQpgxgzC3Pl",
        "colab_type": "code",
        "colab": {
          "base_uri": "https://localhost:8080/",
          "height": 35
        },
        "outputId": "2b28af79-f40a-4211-9df9-6cdebf49baf1"
      },
      "cell_type": "code",
      "source": [
        "df.to_csv('results1.csv', index=False)\n",
        "!ls"
      ],
      "execution_count": 40,
      "outputs": [
        {
          "output_type": "stream",
          "text": [
            "results1.csv  sample_data\n"
          ],
          "name": "stdout"
        }
      ]
    },
    {
      "metadata": {
        "id": "48b_FENtH7gN",
        "colab_type": "text"
      },
      "cell_type": "markdown",
      "source": [
        "Για να διαλέξουμε τη βέλτιστη στρατηγική εξέλιξης θα συγκρίνουμε αρχικά το **avg.min**. Αυτό είναι λογικό, αφού αναζητούμε τη στρατηγική που μπορεί να πλησιάσει πιο πολύ στο ολικό ελάχιστο της συνάρτησής μας, το οποίο είναι το 0. Στη συνέχεια θα κοιτάξουμε τη **μέση τιμή των αποτιμήσεων της συνάρτησης καταλληλότητας**. Τέλος θα συγκρίνουμε τις επιτυχίες που σημείωσε μια υποψήφια στρατιγική, σε πόσες γενιές κατάφερε να πέσει κάτω από το στόχο **GOAL+DELTA=0.1**, ποιος ο μέσος όρος της πρώτης ελάχιστης τιμής για την οποία έπεσε κάτω από το GOAL+DELTA αλλά και τον μέσο όρο αποτιμήσεων μέχρι εκείνη τη στιγμή. \n",
        "\n",
        "Παρατηρώντας προσεκτικά τον παραπάνω πίνακα σημειώνουμε δύο υποψήφιες στρατηγικές:\n",
        "\n",
        "* ** cxBlendHigh,mutGaussianHigh,selTournamentHigh  eaMuCommaLambda 30 120 0.8 0.2        7  6.084e-02         767          6     12150  4.592e-04    2.514**\n",
        "\n",
        "* ** cxBlendHigh,mutGaussianHigh,selTournamentLow            eaSimple 150 0.8 0.2         7  6.306e-02         741          5     12749  5.168e-04    2.236**\n",
        "\n",
        "Νικήτρια αποδεικνύεται η **πρώτη** καθώς όχι μόνο σημειώνει μικρότερο ολικό μέσο όρο( 4.592e-04 έναντι 5.168e-04), αλλά και μικρότερο μέσο όρο συνολικών αποτιμήσεων σε κάθε γύρο(12150). Χρειάζεται μια γενιά παραπάνω (σε σχέση με τη δεύτερη) για να πέσει κάτω από τον στόχο που έχουμε θέσει, αλλά αυτό δε μας πειράζει καθώς είναι αμελητέο."
      ]
    },
    {
      "metadata": {
        "id": "lJAy8-zoVErS",
        "colab_type": "text"
      },
      "cell_type": "markdown",
      "source": [
        "\n",
        "### Τελική βελτιστοποίηση\n"
      ]
    },
    {
      "metadata": {
        "id": "cd8_xiQHVF0v",
        "colab_type": "text"
      },
      "cell_type": "markdown",
      "source": [
        "\n",
        "#### Βελτιστοποίηση πιθανοτήτων διασταύρωσης και μετάλλαξης\n"
      ]
    },
    {
      "metadata": {
        "id": "3eMOuCpxjFlH",
        "colab_type": "text"
      },
      "cell_type": "markdown",
      "source": [
        "Για το Grid Search θα δοκιμάσουμε 10 γύρους, 100 γενιές και πληθυσμό 200 ατόμων. \n",
        "\n",
        "Αρχικά για τις πιθανότητες διασταύρωσης και μετάλλαξης  θα πάρουμε:\n",
        "\n",
        "cxprob = [0.05, 0.2, 0.35, 0.5, 0.65, 0.8, 0.9]\n",
        "\n",
        "mutprob = [0.05, 0.2, 0.35, 0.5, 0.65, 0.8, 0.9]\n",
        "\n",
        "Παίρνουμε τους περιορισμούς mutprob<cxprob (συνήθως έτσι δίνεται στη βιβλιογραφία), αλλά και cxprob+mutprob<=1.0, που μας το επιβάλλει ο αλγόριθμος έτσι ώστε να μπορεί να βγάλει σωστά αποτελέσματα.\n",
        "\n",
        "Τα καλύτερα αποτελέσματα δίνονται για:\n",
        "\n",
        "**Best average minimun is: 0.000432965416766. This is achieved for cxprob: 0.8 and mutprob: 0.2**\n",
        "\n",
        "Στη συνέχεια κάνουμε ένα πιο στενό Grid Search με τις παραμέτρους:\n",
        "\n",
        "cxprob = [0.7, 0.75, 0.8, 0.85, 0.9]\n",
        "\n",
        "mutprob = [0.1, 0.15, 0.2, 0.25, 0.3]\n",
        "\n",
        "Τα βέλτιστα αποτελέσματα δίνονται για:\n",
        "\n",
        "**Best average minimun is: 0.000419062334256. This is achieved for cxprob: 0.7 and mutprob: 0.2**"
      ]
    },
    {
      "metadata": {
        "id": "i0FaAeA7NGFC",
        "colab_type": "code",
        "colab": {}
      },
      "cell_type": "code",
      "source": [
        "toolbox1.register(\"mate\", tools.cxBlend, alpha = 1)\n",
        "toolbox1.register(\"mutate\", tools.mutGaussian, mu = [49.95, 12.8, 2.5], sigma = 1.0, indpb = 0.5)\n",
        "toolbox1.register(\"select\", tools.selTournament, tournsize = 10)"
      ],
      "execution_count": 0,
      "outputs": []
    },
    {
      "metadata": {
        "id": "3LDzUnopbtiU",
        "colab_type": "code",
        "colab": {}
      },
      "cell_type": "code",
      "source": [
        "rounds = 10\n",
        "cxprob = [0.7, 0.75, 0.8, 0.85, 0.9]\n",
        "mutprob = [0.1, 0.15, 0.2, 0.25, 0.3]\n",
        "\n",
        "best_avg_min = 100\n",
        "best_cx = 0\n",
        "best_mut = 0\n",
        "\n",
        "for cx in cxprob:\n",
        "  for mut in mutprob:\n",
        "    mins=[]\n",
        "    if(mut>cx):\n",
        "      break;\n",
        "    if(cx+mut>1.0):\n",
        "      break;\n",
        "    for i in range(rounds):\n",
        "      pop = toolbox1.population(n=200)\n",
        "      stats = tools.Statistics(lambda ind: ind.fitness.values)\n",
        "      stats.register(\"min\", np.min)\n",
        "      \n",
        "      pop, log = algorithms.eaMuCommaLambda(pop, toolbox1, mu = 50, lambda_ = 150, cxpb=cx, mutpb=mut, ngen=100, stats=stats, verbose=False)\n",
        "      \n",
        "      minn = log.select(\"min\")\n",
        "      mins.append(minn[-1])\n",
        "      \n",
        "    avg_min = np.mean(mins)\n",
        "    if(avg_min<best_avg_min):\n",
        "      best_avg_min = avg_min\n",
        "      best_cx=cx\n",
        "      best_mut=mut"
      ],
      "execution_count": 0,
      "outputs": []
    },
    {
      "metadata": {
        "id": "PU1Vhj4ceN-i",
        "colab_type": "code",
        "colab": {
          "base_uri": "https://localhost:8080/",
          "height": 35
        },
        "outputId": "a8eafa9f-2a1f-43cc-8608-06d68c9f9978"
      },
      "cell_type": "code",
      "source": [
        "print('Best average minimun is: {}. This is achieved for cxprob: {} and mutprob: {}'.format(best_avg_min, best_cx, best_mut))"
      ],
      "execution_count": 65,
      "outputs": [
        {
          "output_type": "stream",
          "text": [
            "Best average minimun is: 0.000419062334256. This is achieved for cxprob: 0.7 and mutprob: 0.2\n"
          ],
          "name": "stdout"
        }
      ]
    },
    {
      "metadata": {
        "id": "SVqol5mnVG5o",
        "colab_type": "text"
      },
      "cell_type": "markdown",
      "source": [
        "\n",
        "#### Εύρεση βέλτιστης (ελάχιστης) τιμής της συνάρτησης με τον ΓΑ\n",
        "\n",
        "Για τις παραμέτρους αυτές θα τρέξουμε μία φορά τη στρατηγική εξέλιξης για 1000 γενιές και πληθυσμό 500 ατόμων. Θα τυπώσουμε το min που βρίσκει ο αλγόριθμός μας και το Χ για το οποίο αυτό βρίσκεται, το συνολικό αριθμό αποτιμήσεων καθώς και το συνολικό χρόνο.\n",
        "\n",
        "Τα αποτελέσματα του run είναι τα ακόλουθα:\n",
        "\n",
        "**Best individual is: [49.975344468338704, 25.00086255876647, 1.4998497572870217]\n",
        "with fitness: (4.152170183980315e-09,). Total evaluations are: 360486. Total run time is: 75.00451684**"
      ]
    },
    {
      "metadata": {
        "id": "w-bqLuspww3f",
        "colab_type": "code",
        "colab": {}
      },
      "cell_type": "code",
      "source": [
        "pop = toolbox1.population(n=500)\n",
        "hof = tools.HallOfFame(1)\n",
        "stats = tools.Statistics(lambda ind: ind.fitness.values)\n",
        "stats.register(\"min\", np.min)\n",
        "\n",
        "start_time = time.time()\n",
        "pop, logbook = algorithms.eaMuCommaLambda(pop, toolbox1, mu = 100, lambda_ = 400, cxpb=0.7, mutpb=0.2, ngen=1000, stats=stats, halloffame=hof, verbose=False)\n",
        "end_time = time.time() - start_time\n",
        "\n"
      ],
      "execution_count": 0,
      "outputs": []
    },
    {
      "metadata": {
        "id": "Wh9cB_L6x91K",
        "colab_type": "code",
        "colab": {
          "base_uri": "https://localhost:8080/",
          "height": 53
        },
        "outputId": "71a33bb0-2b15-4c37-888c-ec67360f4b07"
      },
      "cell_type": "code",
      "source": [
        "evals = logbook.select(\"nevals\")\n",
        "print(\"Best individual is: %s\\nwith fitness: %s. Total evaluations are: %s. Total run time is: %s\" % (hof[0], hof[0].fitness, sum(evals), end_time))"
      ],
      "execution_count": 24,
      "outputs": [
        {
          "output_type": "stream",
          "text": [
            "Best individual is: [49.975344468338704, 25.00086255876647, 1.4998497572870217]\n",
            "with fitness: (4.152170183980315e-09,). Total evaluations are: 360486. Total run time is: 75.00451684\n"
          ],
          "name": "stdout"
        }
      ]
    },
    {
      "metadata": {
        "id": "N2eEnO33VICW",
        "colab_type": "text"
      },
      "cell_type": "markdown",
      "source": [
        "\n",
        "## Μέρος 2. Μελέτη κλιμακούμενης συνάρτησης\n",
        "\n"
      ]
    },
    {
      "metadata": {
        "id": "4XFo7QFhwfag",
        "colab_type": "text"
      },
      "cell_type": "markdown",
      "source": [
        "Η συνάρτηση προς ελαχιστοποίηση για αυτό το πρόβλημα είναι η **Csendes Function** η οποία ορίζεται ως:\n",
        "\n",
        "$ f(x) = \\sum_{i=0}^{D}x_i^6(2+sin \\frac{1}{x_i})$\n",
        "\n",
        "με $-1 \\leq x_i \\leq 1$ και $D$ ο αριθμός της διάστασης.\n",
        "\n",
        "Η παραπάνω συνάρτηση έχει ελάχιστο $f(X)=0$ για $X=[0,0,...,0]$"
      ]
    },
    {
      "metadata": {
        "id": "tZjDTXHLVQem",
        "colab_type": "text"
      },
      "cell_type": "markdown",
      "source": [
        "\n",
        "### Για D=2\n"
      ]
    },
    {
      "metadata": {
        "id": "CqbFtF2nzeme",
        "colab_type": "text"
      },
      "cell_type": "markdown",
      "source": [
        "Για να τυπώσουμε το 3D γράφημα θα χρησιμοποιήσουμε τον βοηθητικό κώδικα που δίνεται [εδώ](https://matplotlib.org/examples/mplot3d/surface3d_demo.html).\n",
        "\n",
        "Με μια πρώτη ματιά η συνάρτηση φαίνεται **ασυνεχής** για κάποιο $x_i=0$. Αν όμως αναλύσουμε τον τύπο της θα δούμε πως κάτι τέτοιο δεν ισχύει. Συγκεκριμένα παίρνουμε έναν όρο του αθροίσματος: $x_i^6(2+sin \\frac{1}{x_i})$. Καθώς το $x_i \\to 0$ έχουμε $0+lim_{x_i \\to 0} x_i^6 sin(\\frac{1}{x_i})=lim_{x_i \\to 0} x_i^5 \\frac {sin(\\frac{1}{x_i})}{\\frac{1}{x_i}}$\n",
        "\n",
        "Όμως $lim_{x_i \\to 0}\\frac {sin(\\frac{1}{x_i})}{\\frac{1}{x_i}}=lim_{y \\to \\infty} \\frac{sin(y)}{y}=0$\n",
        "\n",
        "Συνεπώς όλος ο παραπάνω όρος στο $x_i=0$ μηδενίζεται.\n",
        "\n",
        "Τελικά τη συνάρτηση είναι **συνεχής** και έχει ελάχιστο 0 στο $X=[0,0,..,0]$\n",
        "\n",
        "Η συνάρτηση είναι αύξουσα και έχει τα κοίλα προς τα άνω."
      ]
    },
    {
      "metadata": {
        "id": "s7EH9e8gsltx",
        "colab_type": "code",
        "colab": {
          "base_uri": "https://localhost:8080/",
          "height": 754
        },
        "outputId": "f36e0517-5fae-4383-b29a-dd839321a620"
      },
      "cell_type": "code",
      "source": [
        "import matplotlib.pyplot as plt\n",
        "from mpl_toolkits.mplot3d import Axes3D\n",
        "from matplotlib import cm\n",
        "%matplotlib inline\n",
        "\n",
        "fig = plt.figure(figsize=(12, 12))\n",
        "ax = fig.gca(projection='3d')\n",
        "\n",
        "xcurve = np.linspace(-1, 1, 101)\n",
        "ycurve = np.linspace(-1, 1, 101)\n",
        "xcurve, ycurve = np.meshgrid(xcurve, ycurve)\n",
        "\n",
        "CsendesFunction = (xcurve**6)*(2+np.sin(1/xcurve)) + (ycurve**6)*(2+np.sin(1/ycurve))\n",
        "\n",
        "surf = ax.plot_surface(xcurve, ycurve, CsendesFunction, cmap=cm.coolwarm, vmin=0, vmax=5)\n",
        "fig.colorbar(surf, shrink=0.5, aspect=10)\n",
        "plt.grid(True)"
      ],
      "execution_count": 14,
      "outputs": [
        {
          "output_type": "stream",
          "text": [
            "/usr/local/lib/python2.7/dist-packages/ipykernel_launcher.py:13: RuntimeWarning: divide by zero encountered in divide\n",
            "  del sys.path[0]\n",
            "/usr/local/lib/python2.7/dist-packages/ipykernel_launcher.py:13: RuntimeWarning: invalid value encountered in sin\n",
            "  del sys.path[0]\n"
          ],
          "name": "stderr"
        },
        {
          "output_type": "display_data",
          "data": {
            "image/png": "[encoded data removed]",
            "text/plain": [
              "<Figure size 864x864 with 2 Axes>"
            ]
          },
          "metadata": {
            "tags": []
          }
        }
      ]
    },
    {
      "metadata": {
        "id": "KMOlixmrsvSK",
        "colab_type": "text"
      },
      "cell_type": "markdown",
      "source": [
        "Για **D=2** θα φτιάξουμε πάλι τη συνάρτηση καταλληλόητας, τα άτομα και τον πληθυσμό, όπως κάναμε στο 1ο Μέρος. Θα τα εισάγουμε στο toolbox2 και θα τρέξουμε για αυτό το toolbox τις συναρτήσεις του 1ου Μέρους για να βρούμε τον καλύτερο συνδυασμό τελεστών και αλγορίθμου. \n",
        "\n",
        "Σημειώνουμε πως στις παραπάνω συναρτήσεις τροποποιήσαμε το **GOAL+DELTA** το οποίο τέθηκε σε **$0+10^{-20}$** αλλά και τις παραμέτρους στους τελεστές μετάλλαξης έτσι ώστε να είναι συναφείς με τους περιορισμούς της συγκεκριμένης συνάρτησης. Συγκεκριμένα θέσαμε:\n",
        "* mutGaussian: mu=[0,0]\n",
        "*mutUniformInt: low=[-1,-1], up=[1,1]"
      ]
    },
    {
      "metadata": {
        "id": "uANXfNq32EIZ",
        "colab_type": "code",
        "colab": {}
      },
      "cell_type": "code",
      "source": [
        "numVariables = 2 \n",
        "\n",
        "creator.create( \"Fitness2\", base.Fitness , weights=(-1.0,))\n",
        "creator.create( \"IndividualContainer2\", list, fitness= creator.Fitness2)\n",
        "\n",
        "toolbox2 = base.Toolbox()\n",
        "toolbox2.register( \"InitialValues\", np.random.uniform, -1, 1)\n",
        "toolbox2.register( \"indiv\", tools.initRepeat, creator.IndividualContainer2, toolbox2.InitialValues, numVariables)\n",
        "toolbox2.register( \"population\", tools.initRepeat, list , toolbox2.indiv)"
      ],
      "execution_count": 0,
      "outputs": []
    },
    {
      "metadata": {
        "id": "MGkMr4qToLE2",
        "colab_type": "code",
        "colab": {}
      },
      "cell_type": "code",
      "source": [
        "def evalCendesFunction2d(indiv):\n",
        "  summ = 0\n",
        "  for i in range(0,2):\n",
        "    if(indiv[i]==0):\n",
        "      summ += 0\n",
        "    else:\n",
        "      summ = summ + (indiv[i]**6)*(2+np.sin(1/indiv[i]))\n",
        "    \n",
        "  return (summ,)"
      ],
      "execution_count": 0,
      "outputs": []
    },
    {
      "metadata": {
        "id": "pe_KUWFf7oB4",
        "colab_type": "code",
        "colab": {}
      },
      "cell_type": "code",
      "source": [
        "xmin = -1\n",
        "xmax = 1\n",
        "  \n",
        "MIN_BOUND = np.array([xmin]*numVariables)\n",
        "MAX_BOUND = np.array([xmax]*numVariables)\n",
        "\n",
        "def feasible2( indiv ):\n",
        "    if any(indiv < MIN_BOUND) or any(indiv > MAX_BOUND):\n",
        "        return False\n",
        "    return True\n",
        "\n",
        "def distance2( indiv ) :\n",
        "    dist = 0.0\n",
        "    for i in range (len( indiv )) :\n",
        "        penalty = 0\n",
        "        if ( indiv [i] < MIN_BOUND[i]) : penalty = (MIN_BOUND[i] - indiv[i])**2\n",
        "        if ( indiv [i] > MAX_BOUND[i]) : penalty = (indiv[i] - MAX_BOUND[i])**2\n",
        "        dist = dist + penalty\n",
        "    dist=np.sqrt(dist)\n",
        "    return dist"
      ],
      "execution_count": 0,
      "outputs": []
    },
    {
      "metadata": {
        "id": "C686n3ym8G24",
        "colab_type": "code",
        "colab": {}
      },
      "cell_type": "code",
      "source": [
        "toolbox2.register( \"evaluate\", evalCendesFunction2d)\n",
        "toolbox2.decorate( \"evaluate\", tools.DeltaPenality(feasible2, 5, distance2))"
      ],
      "execution_count": 0,
      "outputs": []
    },
    {
      "metadata": {
        "id": "D87186eK8u-g",
        "colab_type": "code",
        "colab": {}
      },
      "cell_type": "code",
      "source": [
        "statistics = np.chararray([96,9], itemsize=100)\n",
        "statistics.fill(None)\n",
        "d1=0\n",
        "d2=0"
      ],
      "execution_count": 0,
      "outputs": []
    },
    {
      "metadata": {
        "id": "-LtXyNyr82rd",
        "colab_type": "code",
        "colab": {}
      },
      "cell_type": "code",
      "source": [
        "###έχουμε αλλάξει τις παραμέτρους των τελεστών διασταύρωσης και μετάλλαξης στην register_toolbox() έτσι ώστε να ταιριάζουν με το πρόβλημα\n",
        "###έχουμε αλλάξει και το GOAL+DELTA σε 10^(-20)\n",
        "\n",
        "cxarray = [0.1, 0.8]\n",
        "mutarray = [0.05, 0.5]\n",
        "toursize = [3, 10]\n",
        "evolve(toolbox2, 'cxUniform', 'mutGaussian', cxarray, mutarray, toursize)\n",
        "\n",
        "cxarray = [0.1, 0.8]\n",
        "mutarray = [0.05, 0.5]\n",
        "evolve(toolbox2, 'cxUniform', 'mutUniformInt', cxarray, mutarray, toursize)\n",
        "\n",
        "cxarray = [0.1, 1.0]\n",
        "mutarray = [0.05, 0.5]\n",
        "evolve(toolbox2, 'cxBlend', 'mutGaussian', cxarray, mutarray, toursize)\n",
        "\n",
        "cxarray = [0.1, 1.0]\n",
        "mutarray = [0.05, 0.5]\n",
        "evolve(toolbox2, 'cxBlend', 'mutUniformInt', cxarray, mutarray, toursize)"
      ],
      "execution_count": 0,
      "outputs": []
    },
    {
      "metadata": {
        "id": "N8BhdJ4VzSRZ",
        "colab_type": "code",
        "colab": {
          "base_uri": "https://localhost:8080/",
          "height": 1770
        },
        "outputId": "2d71cbe2-3b45-4e53-f384-54d66a57eb3f"
      },
      "cell_type": "code",
      "source": [
        "df2 = print_stats(statistics)"
      ],
      "execution_count": 127,
      "outputs": [
        {
          "output_type": "stream",
          "text": [
            "                                            operators                        strategy successes  s.avg.min s.avg.evals s.avg.gens avg.evals     avg.min avg.time\n",
            "0        cxUniformLow,mutGaussianLow,selTournamentLow            eaSimple 150 0.8 0.2         0       None        None       None     12718   8.082e-12   0.8516\n",
            "1       cxUniformLow,mutGaussianLow,selTournamentHigh            eaSimple 150 0.8 0.2         0       None        None       None     12748   8.117e-10   0.9863\n",
            "2       cxUniformLow,mutGaussianHigh,selTournamentLow            eaSimple 150 0.8 0.2         1  1.576e-21        1443         80     12743   2.927e-15   0.8656\n",
            "3      cxUniformLow,mutGaussianHigh,selTournamentHigh            eaSimple 150 0.8 0.2         0       None        None       None     12689   6.126e-15        1\n",
            "4       cxUniformHigh,mutGaussianLow,selTournamentLow            eaSimple 150 0.8 0.2         0       None        None       None     12752   8.473e-12   0.8524\n",
            "5      cxUniformHigh,mutGaussianLow,selTournamentHigh            eaSimple 150 0.8 0.2         0       None        None       None     12765   1.898e-09   0.9933\n",
            "6      cxUniformHigh,mutGaussianHigh,selTournamentLow            eaSimple 150 0.8 0.2         0       None        None       None     12786   4.607e-15   0.8669\n",
            "7     cxUniformHigh,mutGaussianHigh,selTournamentHigh            eaSimple 150 0.8 0.2         0       None        None       None     12735   3.245e-15    1.033\n",
            "8        cxUniformLow,mutGaussianLow,selTournamentLow   eaMuPlusLambda 30 120 0.8 0.2         0       None        None       None     12150   3.231e-09    1.085\n",
            "9       cxUniformLow,mutGaussianLow,selTournamentHigh   eaMuPlusLambda 30 120 0.8 0.2         0       None        None       None     12150   1.637e-11    1.057\n",
            "10      cxUniformLow,mutGaussianHigh,selTournamentLow   eaMuPlusLambda 30 120 0.8 0.2         0       None        None       None     12150   4.517e-12    1.045\n",
            "11     cxUniformLow,mutGaussianHigh,selTournamentHigh   eaMuPlusLambda 30 120 0.8 0.2         0       None        None       None     12150   1.534e-14    1.072\n",
            "12      cxUniformHigh,mutGaussianLow,selTournamentLow   eaMuPlusLambda 30 120 0.8 0.2         0       None        None       None     12150   1.178e-09    1.035\n",
            "13     cxUniformHigh,mutGaussianLow,selTournamentHigh   eaMuPlusLambda 30 120 0.8 0.2         0       None        None       None     12150   9.301e-10    1.068\n",
            "14     cxUniformHigh,mutGaussianHigh,selTournamentLow   eaMuPlusLambda 30 120 0.8 0.2         0       None        None       None     12150   2.988e-12    1.092\n",
            "15    cxUniformHigh,mutGaussianHigh,selTournamentHigh   eaMuPlusLambda 30 120 0.8 0.2         0       None        None       None     12150   5.029e-13    1.078\n",
            "16       cxUniformLow,mutGaussianLow,selTournamentLow  eaMuCommaLambda 30 120 0.8 0.2         0       None        None       None     12150   1.157e-09     1.02\n",
            "17      cxUniformLow,mutGaussianLow,selTournamentHigh  eaMuCommaLambda 30 120 0.8 0.2         0       None        None       None     12150   2.179e-11    1.054\n",
            "18      cxUniformLow,mutGaussianHigh,selTournamentLow  eaMuCommaLambda 30 120 0.8 0.2         0       None        None       None     12150   1.051e-12     1.05\n",
            "19     cxUniformLow,mutGaussianHigh,selTournamentHigh  eaMuCommaLambda 30 120 0.8 0.2         0       None        None       None     12150   5.485e-14    1.079\n",
            "20      cxUniformHigh,mutGaussianLow,selTournamentLow  eaMuCommaLambda 30 120 0.8 0.2         0       None        None       None     12150   7.586e-10    1.034\n",
            "21     cxUniformHigh,mutGaussianLow,selTournamentHigh  eaMuCommaLambda 30 120 0.8 0.2         0       None        None       None     12150   3.424e-09    1.066\n",
            "22     cxUniformHigh,mutGaussianHigh,selTournamentLow  eaMuCommaLambda 30 120 0.8 0.2         0       None        None       None     12150   4.999e-12    1.055\n",
            "23    cxUniformHigh,mutGaussianHigh,selTournamentHigh  eaMuCommaLambda 30 120 0.8 0.2         1  5.197e-21        1221         71     12150   1.279e-14    1.083\n",
            "24     cxUniformLow,mutUniformIntLow,selTournamentLow            eaSimple 150 0.8 0.2         7  0.000e+00        1300         10     12750   0.000e+00   0.7766\n",
            "25    cxUniformLow,mutUniformIntLow,selTournamentHigh            eaSimple 150 0.8 0.2         7  0.000e+00         883          6     12749   0.000e+00   0.9029\n",
            "26    cxUniformLow,mutUniformIntHigh,selTournamentLow            eaSimple 150 0.8 0.2         7  0.000e+00         365          2     12765   0.000e+00   0.7735\n",
            "27   cxUniformLow,mutUniformIntHigh,selTournamentHigh            eaSimple 150 0.8 0.2         7  0.000e+00         399          3     12757   0.000e+00   0.9131\n",
            "28    cxUniformHigh,mutUniformIntLow,selTournamentLow            eaSimple 150 0.8 0.2         7  0.000e+00        1590         12     12746   0.000e+00   0.7716\n",
            "29   cxUniformHigh,mutUniformIntLow,selTournamentHigh            eaSimple 150 0.8 0.2         7  0.000e+00         756          5     12747   0.000e+00    0.905\n",
            "30   cxUniformHigh,mutUniformIntHigh,selTournamentLow            eaSimple 150 0.8 0.2         7  0.000e+00         380          2     12749   0.000e+00   0.7818\n",
            "31  cxUniformHigh,mutUniformIntHigh,selTournamentHigh            eaSimple 150 0.8 0.2         7  0.000e+00         383          2     12749   0.000e+00   0.9224\n",
            "32     cxUniformLow,mutUniformIntLow,selTournamentLow   eaMuPlusLambda 30 120 0.8 0.2         7  0.000e+00        1521         12     12150   0.000e+00   0.9414\n",
            "33    cxUniformLow,mutUniformIntLow,selTournamentHigh   eaMuPlusLambda 30 120 0.8 0.2         7  0.000e+00        1195          9     12150   0.000e+00    0.972\n",
            "34    cxUniformLow,mutUniformIntHigh,selTournamentLow   eaMuPlusLambda 30 120 0.8 0.2         7  0.000e+00         544          4     12150   0.000e+00   0.9523\n",
            "35   cxUniformLow,mutUniformIntHigh,selTournamentHigh   eaMuPlusLambda 30 120 0.8 0.2         7  0.000e+00         458          3     12150   0.000e+00    0.982\n",
            "36    cxUniformHigh,mutUniformIntLow,selTournamentLow   eaMuPlusLambda 30 120 0.8 0.2         7  2.381e-24        1847         15     12150   0.000e+00   0.9543\n",
            "37   cxUniformHigh,mutUniformIntLow,selTournamentHigh   eaMuPlusLambda 30 120 0.8 0.2         7  0.000e+00         990          8     12150   0.000e+00    0.974\n",
            "38   cxUniformHigh,mutUniformIntHigh,selTournamentLow   eaMuPlusLambda 30 120 0.8 0.2         7  0.000e+00         492          3     12150   0.000e+00   0.9583\n",
            "39  cxUniformHigh,mutUniformIntHigh,selTournamentHigh   eaMuPlusLambda 30 120 0.8 0.2         7  0.000e+00         424          3     12150   0.000e+00   0.9844\n",
            "40     cxUniformLow,mutUniformIntLow,selTournamentLow  eaMuCommaLambda 30 120 0.8 0.2         7  0.000e+00        1864         15     12150   0.000e+00   0.9475\n",
            "41    cxUniformLow,mutUniformIntLow,selTournamentHigh  eaMuCommaLambda 30 120 0.8 0.2         7  4.553e-26         921          7     12150   0.000e+00   0.9634\n",
            "42    cxUniformLow,mutUniformIntHigh,selTournamentLow  eaMuCommaLambda 30 120 0.8 0.2         7  0.000e+00         510          4     12150   0.000e+00   0.9515\n",
            "43   cxUniformLow,mutUniformIntHigh,selTournamentHigh  eaMuCommaLambda 30 120 0.8 0.2         7  0.000e+00         321          2     12150   0.000e+00   0.9739\n",
            "44    cxUniformHigh,mutUniformIntLow,selTournamentLow  eaMuCommaLambda 30 120 0.8 0.2         7  0.000e+00        1624         13     12150   0.000e+00   0.9518\n",
            "45   cxUniformHigh,mutUniformIntLow,selTournamentHigh  eaMuCommaLambda 30 120 0.8 0.2         7  0.000e+00        1024          8     12150   0.000e+00   0.9719\n",
            "46   cxUniformHigh,mutUniformIntHigh,selTournamentLow  eaMuCommaLambda 30 120 0.8 0.2         7  0.000e+00         492          3     12150   0.000e+00   0.9564\n",
            "47  cxUniformHigh,mutUniformIntHigh,selTournamentHigh  eaMuCommaLambda 30 120 0.8 0.2         7  0.000e+00         407          3     12150   0.000e+00   0.9798\n",
            "48         cxBlendLow,mutGaussianLow,selTournamentLow            eaSimple 150 0.8 0.2         7  2.322e-21        1275          9     12765   5.059e-93   0.8613\n",
            "49        cxBlendLow,mutGaussianLow,selTournamentHigh            eaSimple 150 0.8 0.2         7  2.609e-22         877          6     12752   2.084e-33    1.015\n",
            "50        cxBlendLow,mutGaussianHigh,selTournamentLow            eaSimple 150 0.8 0.2         7  9.382e-22        1397         10     12778  2.854e-130   0.8813\n",
            "51       cxBlendLow,mutGaussianHigh,selTournamentHigh            eaSimple 150 0.8 0.2         6  2.411e-21         701          6     12750   1.507e-19    1.029\n",
            "52        cxBlendHigh,mutGaussianLow,selTournamentLow            eaSimple 150 0.8 0.2         7  5.806e-21        1694         13     12783  2.007e-101   0.8651\n",
            "53       cxBlendHigh,mutGaussianLow,selTournamentHigh            eaSimple 150 0.8 0.2         7  2.207e-21         819          6     12729  3.262e-213    1.063\n",
            "54       cxBlendHigh,mutGaussianHigh,selTournamentLow            eaSimple 150 0.8 0.2         7  2.570e-21        2215         17     12741   1.802e-81   0.9061\n",
            "55      cxBlendHigh,mutGaussianHigh,selTournamentHigh            eaSimple 150 0.8 0.2         7  9.713e-22         973          7     12747  5.357e-209    1.027\n",
            "56         cxBlendLow,mutGaussianLow,selTournamentLow   eaMuPlusLambda 30 120 0.8 0.2         5  1.651e-21        1032         11     12150   1.444e-17    1.047\n",
            "57        cxBlendLow,mutGaussianLow,selTournamentHigh   eaMuPlusLambda 30 120 0.8 0.2         7  2.362e-21        1041          8     12150   6.429e-31     1.08\n",
            "58        cxBlendLow,mutGaussianHigh,selTournamentLow   eaMuPlusLambda 30 120 0.8 0.2         6  3.294e-21        2477         23     12150   1.209e-19    1.068\n",
            "59       cxBlendLow,mutGaussianHigh,selTournamentHigh   eaMuPlusLambda 30 120 0.8 0.2         6  2.487e-21        3351         32     12150   5.303e-20     1.14\n",
            "60        cxBlendHigh,mutGaussianLow,selTournamentLow   eaMuPlusLambda 30 120 0.8 0.2         7  1.531e-21        2104         17     12150   6.559e-91    1.054\n",
            "61       cxBlendHigh,mutGaussianLow,selTournamentHigh   eaMuPlusLambda 30 120 0.8 0.2         7  2.016e-21        1127          9     12150  2.851e-189    1.088\n",
            "62       cxBlendHigh,mutGaussianHigh,selTournamentLow   eaMuPlusLambda 30 120 0.8 0.2         7  1.372e-21        2618         21     12150   2.833e-79     1.07\n",
            "63      cxBlendHigh,mutGaussianHigh,selTournamentHigh   eaMuPlusLambda 30 120 0.8 0.2         7  4.801e-22        1178          9     12150   9.327e-37    1.103\n",
            "64         cxBlendLow,mutGaussianLow,selTournamentLow  eaMuCommaLambda 30 120 0.8 0.2         5  2.588e-21         998         11     12150   9.566e-17    1.045\n",
            "65        cxBlendLow,mutGaussianLow,selTournamentHigh  eaMuCommaLambda 30 120 0.8 0.2         6  1.685e-21         694          6     12150   1.958e-16    1.083\n",
            "66        cxBlendLow,mutGaussianHigh,selTournamentLow  eaMuCommaLambda 30 120 0.8 0.2         7  2.513e-21        1435         11     12150   5.008e-23    1.071\n",
            "67       cxBlendLow,mutGaussianHigh,selTournamentHigh  eaMuCommaLambda 30 120 0.8 0.2         6  4.995e-22        1500         14     12150   6.483e-21    1.094\n",
            "68        cxBlendHigh,mutGaussianLow,selTournamentLow  eaMuCommaLambda 30 120 0.8 0.2         7  2.107e-21        1915         15     12150   1.164e-96    1.048\n",
            "69       cxBlendHigh,mutGaussianLow,selTournamentHigh  eaMuCommaLambda 30 120 0.8 0.2         7  1.127e-21        1058          8     12150  4.777e-207    1.093\n",
            "70       cxBlendHigh,mutGaussianHigh,selTournamentLow  eaMuCommaLambda 30 120 0.8 0.2         7  7.013e-22        2515         20     12150   4.743e-70     1.07\n",
            "71      cxBlendHigh,mutGaussianHigh,selTournamentHigh  eaMuCommaLambda 30 120 0.8 0.2         7  2.263e-21        1110          9     12150  2.976e-206      1.1\n",
            "72       cxBlendLow,mutUniformIntLow,selTournamentLow            eaSimple 150 0.8 0.2         7  6.009e-22        1064          8     12749  4.334e-171   0.8591\n",
            "73      cxBlendLow,mutUniformIntLow,selTournamentHigh            eaSimple 150 0.8 0.2         7  1.371e-21         753          5     12716  8.337e-288   0.9863\n",
            "74      cxBlendLow,mutUniformIntHigh,selTournamentLow            eaSimple 150 0.8 0.2         7  0.000e+00         352          2     12771   0.000e+00   0.8544\n",
            "75     cxBlendLow,mutUniformIntHigh,selTournamentHigh            eaSimple 150 0.8 0.2         7  0.000e+00         293          2     12708   0.000e+00    0.946\n",
            "76      cxBlendHigh,mutUniformIntLow,selTournamentLow            eaSimple 150 0.8 0.2         7  3.421e-22        1590         12     12768  2.517e-101   0.8587\n",
            "77     cxBlendHigh,mutUniformIntLow,selTournamentHigh            eaSimple 150 0.8 0.2         7  1.155e-21         810          6     12734   0.000e+00   0.9733\n",
            "78     cxBlendHigh,mutUniformIntHigh,selTournamentLow            eaSimple 150 0.8 0.2         7  0.000e+00         311          2     12767  1.051e-131   0.8675\n",
            "79    cxBlendHigh,mutUniformIntHigh,selTournamentHigh            eaSimple 150 0.8 0.2         7  0.000e+00         366          2     12738   0.000e+00   0.9421\n",
            "80       cxBlendLow,mutUniformIntLow,selTournamentLow   eaMuPlusLambda 30 120 0.8 0.2         7  1.813e-21        1384         11     12150   6.194e-46    1.034\n",
            "81      cxBlendLow,mutUniformIntLow,selTournamentHigh   eaMuPlusLambda 30 120 0.8 0.2         7  6.433e-22         870          7     12150   0.000e+00    1.043\n",
            "82      cxBlendLow,mutUniformIntHigh,selTournamentLow   eaMuPlusLambda 30 120 0.8 0.2         7  0.000e+00         390          3     12150   0.000e+00    1.013\n",
            "83     cxBlendLow,mutUniformIntHigh,selTournamentHigh   eaMuPlusLambda 30 120 0.8 0.2         7  0.000e+00         510          4     12150   0.000e+00    1.032\n",
            "84      cxBlendHigh,mutUniformIntLow,selTournamentLow   eaMuPlusLambda 30 120 0.8 0.2         7  2.077e-21        2121         17     12150  1.371e-103    1.048\n",
            "85     cxBlendHigh,mutUniformIntLow,selTournamentHigh   eaMuPlusLambda 30 120 0.8 0.2         7  1.555e-21        1161          9     12150  1.268e-209    1.055\n",
            "86     cxBlendHigh,mutUniformIntHigh,selTournamentLow   eaMuPlusLambda 30 120 0.8 0.2         7  4.187e-25         578          4     12150   0.000e+00    1.015\n",
            "87    cxBlendHigh,mutUniformIntHigh,selTournamentHigh   eaMuPlusLambda 30 120 0.8 0.2         7  0.000e+00         441          3     12150   0.000e+00    1.027\n",
            "88       cxBlendLow,mutUniformIntLow,selTournamentLow  eaMuCommaLambda 30 120 0.8 0.2         7  6.172e-22        1795         14     12150   9.588e-37    1.041\n",
            "89      cxBlendLow,mutUniformIntLow,selTournamentHigh  eaMuCommaLambda 30 120 0.8 0.2         7  1.213e-21        1127          9     12150   0.000e+00    1.042\n",
            "90      cxBlendLow,mutUniformIntHigh,selTournamentLow  eaMuCommaLambda 30 120 0.8 0.2         7  0.000e+00         475          3     12150  2.027e-176    1.048\n",
            "91     cxBlendLow,mutUniformIntHigh,selTournamentHigh  eaMuCommaLambda 30 120 0.8 0.2         7  0.000e+00         407          3     12150   0.000e+00    1.022\n",
            "92      cxBlendHigh,mutUniformIntLow,selTournamentLow  eaMuCommaLambda 30 120 0.8 0.2         7  8.768e-22        2190         18     12150   1.851e-94    1.039\n",
            "93     cxBlendHigh,mutUniformIntLow,selTournamentHigh  eaMuCommaLambda 30 120 0.8 0.2         7  2.674e-21        1075          8     12150  6.222e-226    1.038\n",
            "94     cxBlendHigh,mutUniformIntHigh,selTournamentLow  eaMuCommaLambda 30 120 0.8 0.2         7  0.000e+00         441          3     12150   3.708e-99    1.047\n",
            "95    cxBlendHigh,mutUniformIntHigh,selTournamentHigh  eaMuCommaLambda 30 120 0.8 0.2         7  0.000e+00         407          3     12150   0.000e+00    1.024\n"
          ],
          "name": "stdout"
        }
      ]
    },
    {
      "metadata": {
        "id": "IGJ0UBlKV1Z-",
        "colab_type": "code",
        "colab": {
          "base_uri": "https://localhost:8080/",
          "height": 35
        },
        "outputId": "38c90f96-3d21-44bc-8605-631ab1ceb976"
      },
      "cell_type": "code",
      "source": [
        "df2.to_csv('results2.csv', index=False)\n",
        "!ls"
      ],
      "execution_count": 129,
      "outputs": [
        {
          "output_type": "stream",
          "text": [
            "results2.csv  sample_data\n"
          ],
          "name": "stdout"
        }
      ]
    },
    {
      "metadata": {
        "id": "iSO5OI0YTj9p",
        "colab_type": "text"
      },
      "cell_type": "markdown",
      "source": [
        "Με ανάλογο σκεπτικό όπως στο 1ο Μέρος προχωράμε στο να βρούμε την καλύτερη στρατηγική εξέλιξης. \n",
        "\n",
        "Εδώ βλέπουμε πως σε πολλές περιπτώσεις αλγόριθμος βρίσκει ακριβή λύση. Άρα για να αποφασίσουμε για την καταλληλότερη στρατηγική θα προχωρήσουμε σε άλλα κριτήρια, όπως μικρότερος αριθμός αποτιμήσεων και λιγότερες γενειές κάτω από τις οποίες ο αλγόριθμος βρίσκει ελάχιστο κάτω από τον στόχο *GOAL+DELTA*.\n",
        "\n",
        "Παρατηρούμε πως περισσότερες από μια στρατηγικές δίνουν ακριβές αποτέλεσμα αλλά και ίδιο μέσο όρο συνολικών αποτιμήσεων. Από αυτές διαλέγουμε εκείνη η οποία μας δίνει και μικρότερο μέσο όρο συνολικών αποτιμήσεων s.avg.evals. Αυτή είναι η:\n",
        "\n",
        "**cxBlendLow,mutUniformIntHigh,selTournamentLow   eaMuPlusLambda 30 120 0.8 0.2         7  0.000e+00         390          3     12150   0.000e+00    1.013**\n",
        "\n",
        "Δεν έχει νόημα να κάνουμε βελτιστοποίηση καθώς ο αλγόριθμος βρήκε το ακριβές ελάχιστο της συνάρτησης και μάλιστα σε 3 μόνο γενιές.\n",
        "\n",
        "Θα τρέξουμε μια φορά τον βέλτιστο αλγόριθμο για πληθυσμό 500 ατόμων και 1000 γενιές και θα τυπώσουμε το ελάχιστο, τις συνολικές αποτιμήσεις και το χρόνο εκτέλεσης:\n",
        "\n",
        "**Best individual is: [0, 0]\n",
        "with fitness: (0.0,). Total evaluations are: 400500. Total run time is: 35.0041730404**\n"
      ]
    },
    {
      "metadata": {
        "id": "PEv6ypzBbDgG",
        "colab_type": "code",
        "colab": {}
      },
      "cell_type": "code",
      "source": [
        "toolbox2.register(\"mate\", tools.cxBlend, alpha = 0.1)\n",
        "toolbox2.register(\"mutate\", tools.mutUniformInt, low = [-1,-1], up = [1,1], indpb = 0.5)\n",
        "toolbox2.register(\"select\", tools.selTournament, tournsize = 3)\n",
        "\n",
        "pop = toolbox2.population(n=500)\n",
        "hof = tools.HallOfFame(1)\n",
        "stats = tools.Statistics(lambda ind: ind.fitness.values)\n",
        "stats.register(\"min\", np.min)\n",
        "\n",
        "start_time = time.time()\n",
        "pop, log = algorithms.eaMuPlusLambda(pop, toolbox2, mu = 100, lambda_ = 400, cxpb=0.8, mutpb=0.2, ngen=1000, stats=stats, halloffame=hof, verbose=False)\n",
        "end_time = time.time() - start_time"
      ],
      "execution_count": 0,
      "outputs": []
    },
    {
      "metadata": {
        "id": "TU0BahVTbwB_",
        "colab_type": "code",
        "colab": {
          "base_uri": "https://localhost:8080/",
          "height": 53
        },
        "outputId": "c79a684a-376e-435f-b215-3e96bbee46b3"
      },
      "cell_type": "code",
      "source": [
        "evals = log.select(\"nevals\")\n",
        "print(\"Best individual is: %s\\nwith fitness: %s. Total evaluations are: %s. Total run time is: %s\" % (hof[0], hof[0].fitness, sum(evals), end_time))"
      ],
      "execution_count": 131,
      "outputs": [
        {
          "output_type": "stream",
          "text": [
            "Best individual is: [0, 0]\n",
            "with fitness: (0.0,). Total evaluations are: 400500. Total run time is: 35.0041730404\n"
          ],
          "name": "stdout"
        }
      ]
    },
    {
      "metadata": {
        "id": "_7jlJymHVRtE",
        "colab_type": "text"
      },
      "cell_type": "markdown",
      "source": [
        "\n",
        "### Για D=1, 10, 20, 40 και μεγαλύτερες διαστάσεις\n"
      ]
    },
    {
      "metadata": {
        "id": "0EOgW8R1pjDg",
        "colab_type": "text"
      },
      "cell_type": "markdown",
      "source": [
        "Αρχικά θα τροποποιήσουμε τη συνάρτηση καταλληλότητας έτσι ώστε αυτή να καλύπτει οποιοδήποτε αριθμό διαστάσεων. Για το λόγο αυτό θα ορίσουμε μια global μεταβλητή **d** η οποία θα δίνει κάθε φορά τον αριθμό αυτό. \n",
        "___\n",
        "Ορίζουμε 2 καινούριες συναρτήσεις.\n",
        "Η **create_bounds()** φτιάχνει τα κατάλληλα όρια (με σωστές διαστάσεις) που χρησιμοποιούν οι feasible2 και distance2. Όσον αφορά τη συνάρτηση ποινής *DeltaPenalty* θα θέσουμε delta ανάλογο του αριθμού διαστάσεων, πχ *delta = 5d*.\n",
        "____\n",
        "Φτιάχνουμε ακόμα την **create_toolbox()** η οποία αρχικοποιεί συναρτήσει του **d** όλα τα εργαλεία που χρειαζόμαστε για να τρέξουμε τον γενετικό αλγόριθμο. Οι παράμετροι των γενετικών τελεστών είναι αυτές που βρέθηκαν παραπάνω από τη βελτιστοποίση σε 2 διαστάσεις.  \n",
        "___\n",
        "Οι υπόλοιπες είναι όμοιες με τις αντίστοιχες του 1ου Μέρους, με τις κατάλληλες τροποποιήσεις."
      ]
    },
    {
      "metadata": {
        "id": "nz0CMxpN7VQn",
        "colab_type": "code",
        "colab": {}
      },
      "cell_type": "code",
      "source": [
        "def evalCendesFunction2d(indiv):\n",
        "  global d\n",
        "  summ = 0\n",
        "  for i in range(0,d):\n",
        "    if(indiv[i]==0):\n",
        "      summ += 0\n",
        "    else:\n",
        "      summ = summ + (indiv[i]**6)*(2+np.sin(1/indiv[i]))\n",
        "    \n",
        "  return (summ,)"
      ],
      "execution_count": 0,
      "outputs": []
    },
    {
      "metadata": {
        "id": "NPhATlnAGLTw",
        "colab_type": "code",
        "colab": {}
      },
      "cell_type": "code",
      "source": [
        "xmin = -1\n",
        "xmax = 1\n",
        "\n",
        "def create_bounds(d):\n",
        "  MIN_BOUND = np.array([xmin]*d)\n",
        "  MAX_BOUND = np.array([xmax]*d)\n",
        "  return MIN_BOUND, MAX_BOUND\n",
        "\n",
        "def feasible2( indiv ):\n",
        "    if any(indiv < MIN_BOUND) or any(indiv > MAX_BOUND):\n",
        "        return False\n",
        "    return True\n",
        "\n",
        "def distance2( indiv ) :\n",
        "    dist = 0.0\n",
        "    for i in range (len(indiv)) :\n",
        "        penalty = 0\n",
        "        if ( indiv [i] < MIN_BOUND[i]) : penalty = (MIN_BOUND[i] - indiv[i])**2\n",
        "        if ( indiv [i] > MAX_BOUND[i]) : penalty = (indiv[i] - MAX_BOUND[i])**2\n",
        "        dist = dist + penalty\n",
        "    dist=np.sqrt(dist)\n",
        "    return dist"
      ],
      "execution_count": 0,
      "outputs": []
    },
    {
      "metadata": {
        "id": "KgJPlhPc7lke",
        "colab_type": "code",
        "colab": {}
      },
      "cell_type": "code",
      "source": [
        "def create_toolbox():\n",
        "  global d\n",
        "  numVariables = d\n",
        "\n",
        "  creator.create( \"Fitness3\", base.Fitness , weights=(-1.0,))\n",
        "  creator.create( \"IndividualContainer3\", list, fitness= creator.Fitness3)\n",
        "\n",
        "  toolbox3 = base.Toolbox()\n",
        "  toolbox3.register( \"InitialValues\", np.random.uniform, -1, 1)\n",
        "  toolbox3.register( \"indiv\", tools.initRepeat, creator.IndividualContainer3, toolbox3.InitialValues, numVariables)\n",
        "  toolbox3.register( \"population\", tools.initRepeat, list , toolbox3.indiv)\n",
        "  \n",
        "  toolbox3.register( \"evaluate\", evalCendesFunction)\n",
        "  toolbox3.decorate( \"evaluate\", tools.DeltaPenality(feasible2, 5*d, distance2))\n",
        "  \n",
        "  toolbox3.register(\"mate\", tools.cxBlend, alpha = 0.1)\n",
        "  toolbox3.register(\"mutate\", tools.mutUniformInt, low = [-1]*d, up = [1]*d, indpb = 0.5)\n",
        "  toolbox3.register(\"select\", tools.selTournament, tournsize = 3)\n",
        "  \n",
        "  return toolbox3"
      ],
      "execution_count": 0,
      "outputs": []
    },
    {
      "metadata": {
        "id": "4VMnF22za50o",
        "colab_type": "code",
        "colab": {}
      },
      "cell_type": "code",
      "source": [
        "def rounds_analysis_(rounds, toolbox):\n",
        "  times = []\n",
        "  mins = []\n",
        "  evals = []\n",
        "  evs = []\n",
        "  \n",
        "  goal_delta = 0\n",
        "  successes = 0\n",
        "  for i in range(rounds):\n",
        "    \n",
        "    pop = toolbox.population(n=300)\n",
        "    stats = tools.Statistics(lambda ind: ind.fitness.values)\n",
        "    stats.register(\"min\", np.min)\n",
        "    \n",
        "    start_time = time.time()\n",
        "    pop, log = algorithms.eaMuPlusLambda(pop, toolbox, mu = 100, lambda_ = 200, cxpb=0.8, mutpb=0.2, ngen=200, stats=stats, verbose=False)\n",
        "    round_time = time.time() - start_time\n",
        "    \n",
        "    times.append(round_time)\n",
        "    minn = log.select(\"min\")\n",
        "    mins.append(minn[-1])\n",
        "    evs = log.select(\"nevals\")\n",
        "    evals += evs\n",
        "    if(minn[-1]<=goal_delta):\n",
        "      #print(\"Success!\")\n",
        "      successes += 1\n",
        "    \n",
        "    \n",
        "  avg_time = np.mean(times)\n",
        "  avg_min = np.mean(mins)\n",
        "  avg_evals = sum(evals)/rounds\n",
        "  \n",
        "  return successes, avg_min, avg_evals, avg_time\n",
        "    "
      ],
      "execution_count": 0,
      "outputs": []
    },
    {
      "metadata": {
        "id": "dF2uGeDjcHOB",
        "colab_type": "code",
        "colab": {}
      },
      "cell_type": "code",
      "source": [
        "def update_stats_(dimension, successes, avg_min, avg_evals, avg_time):\n",
        "  global d1\n",
        "  global d2\n",
        "  global stats\n",
        "  stats[d1][d2] = dimension\n",
        "  stats[d1][d2+1] = successes\n",
        "  stats[d1][d2+2] = '%.3e'%avg_min\n",
        "  stats[d1][d2+3] = avg_evals\n",
        "  stats[d1][d2+4] = '%.4g'%avg_time\n",
        "  \n",
        "  d1 += 1\n",
        "  d2=0"
      ],
      "execution_count": 0,
      "outputs": []
    },
    {
      "metadata": {
        "id": "qoSEmtVcgABr",
        "colab_type": "code",
        "colab": {}
      },
      "cell_type": "code",
      "source": [
        "def print_stats_(stats):\n",
        "  import pandas\n",
        "  headers = ['dimension', 'successes', 'avg.min', 'avg.evals', 'avg.time']\n",
        "  df = pandas.DataFrame(stats, columns = headers)\n",
        "  print(df.to_string())\n",
        "  return df"
      ],
      "execution_count": 0,
      "outputs": []
    },
    {
      "metadata": {
        "id": "-yHg4H4Lc9f2",
        "colab_type": "code",
        "colab": {}
      },
      "cell_type": "code",
      "source": [
        "stats = np.chararray([7,5], itemsize=100)\n",
        "stats.fill(None)\n",
        "d1=0\n",
        "d2=0"
      ],
      "execution_count": 0,
      "outputs": []
    },
    {
      "metadata": {
        "id": "3w34v9EC0e9A",
        "colab_type": "text"
      },
      "cell_type": "markdown",
      "source": [
        "Για καθεμία από τις διαστάσεις του πίνακα dimensions τρέχουμε τον ΓΑ για 15 γύρους και 200 γενιές, σε πληθυσμό 300 ατόμων και αποθηκεύουμε τα αποτελέσματα στον πίνακα stats. \n",
        "\n",
        "Η αρχική βελτιστοποίηση μας έδειξε πως ο αλγόριθμος βρίσκει ακριβή λύση (και μάλιστα σε πολύ λίγες γενιές, οπότε θα μπορούσαμε να έχουμε θέσει και λιγότερες), συνεπώς έχουμε θέσει τη σταθερά **GOAL+DELTA** ίση με 0. "
      ]
    },
    {
      "metadata": {
        "id": "O5AJtvb1HY9I",
        "colab_type": "code",
        "colab": {}
      },
      "cell_type": "code",
      "source": [
        "dimension= [1, 10, 20, 40, 50, 75, 100]\n",
        "\n",
        "for d in dimension:\n",
        "  MIN_BOUND, MAX_BOUND = create_bounds(d)\n",
        "  toolbox3 = create_toolbox()\n",
        "\n",
        "  successes, avg_min, avg_evals, avg_time = rounds_analysis_(15, toolbox3)\n",
        "  update_stats_(d, successes, avg_min, avg_evals, avg_time)\n",
        "  "
      ],
      "execution_count": 0,
      "outputs": []
    },
    {
      "metadata": {
        "id": "KWxwdX-JfSv3",
        "colab_type": "code",
        "colab": {
          "base_uri": "https://localhost:8080/",
          "height": 412
        },
        "outputId": "527305e2-a4e2-4293-e7d6-98d00585f275"
      },
      "cell_type": "code",
      "source": [
        "print_stats_(stats)"
      ],
      "execution_count": 147,
      "outputs": [
        {
          "output_type": "stream",
          "text": [
            "  dimension successes    avg.min avg.evals avg.time\n",
            "0         1        15  0.000e+00     40300    3.234\n",
            "1        10        15  0.000e+00     40300    5.188\n",
            "2        20        15  0.000e+00     40300    6.929\n",
            "3        40        15  0.000e+00     40300    9.618\n",
            "4        50        15  0.000e+00     40300     10.8\n",
            "5        75        15  0.000e+00     40300    14.05\n",
            "6       100        15  0.000e+00     40300    17.44\n"
          ],
          "name": "stdout"
        },
        {
          "output_type": "execute_result",
          "data": {
            "text/html": [
              "<div>\n",
              "<style scoped>\n",
              "    .dataframe tbody tr th:only-of-type {\n",
              "        vertical-align: middle;\n",
              "    }\n",
              "\n",
              "    .dataframe tbody tr th {\n",
              "        vertical-align: top;\n",
              "    }\n",
              "\n",
              "    .dataframe thead th {\n",
              "        text-align: right;\n",
              "    }\n",
              "</style>\n",
              "<table border=\"1\" class=\"dataframe\">\n",
              "  <thead>\n",
              "    <tr style=\"text-align: right;\">\n",
              "      <th></th>\n",
              "      <th>dimension</th>\n",
              "      <th>successes</th>\n",
              "      <th>avg.min</th>\n",
              "      <th>avg.evals</th>\n",
              "      <th>avg.time</th>\n",
              "    </tr>\n",
              "  </thead>\n",
              "  <tbody>\n",
              "    <tr>\n",
              "      <th>0</th>\n",
              "      <td>1</td>\n",
              "      <td>15</td>\n",
              "      <td>0.000e+00</td>\n",
              "      <td>40300</td>\n",
              "      <td>3.234</td>\n",
              "    </tr>\n",
              "    <tr>\n",
              "      <th>1</th>\n",
              "      <td>10</td>\n",
              "      <td>15</td>\n",
              "      <td>0.000e+00</td>\n",
              "      <td>40300</td>\n",
              "      <td>5.188</td>\n",
              "    </tr>\n",
              "    <tr>\n",
              "      <th>2</th>\n",
              "      <td>20</td>\n",
              "      <td>15</td>\n",
              "      <td>0.000e+00</td>\n",
              "      <td>40300</td>\n",
              "      <td>6.929</td>\n",
              "    </tr>\n",
              "    <tr>\n",
              "      <th>3</th>\n",
              "      <td>40</td>\n",
              "      <td>15</td>\n",
              "      <td>0.000e+00</td>\n",
              "      <td>40300</td>\n",
              "      <td>9.618</td>\n",
              "    </tr>\n",
              "    <tr>\n",
              "      <th>4</th>\n",
              "      <td>50</td>\n",
              "      <td>15</td>\n",
              "      <td>0.000e+00</td>\n",
              "      <td>40300</td>\n",
              "      <td>10.8</td>\n",
              "    </tr>\n",
              "    <tr>\n",
              "      <th>5</th>\n",
              "      <td>75</td>\n",
              "      <td>15</td>\n",
              "      <td>0.000e+00</td>\n",
              "      <td>40300</td>\n",
              "      <td>14.05</td>\n",
              "    </tr>\n",
              "    <tr>\n",
              "      <th>6</th>\n",
              "      <td>100</td>\n",
              "      <td>15</td>\n",
              "      <td>0.000e+00</td>\n",
              "      <td>40300</td>\n",
              "      <td>17.44</td>\n",
              "    </tr>\n",
              "  </tbody>\n",
              "</table>\n",
              "</div>"
            ],
            "text/plain": [
              "  dimension successes    avg.min avg.evals avg.time\n",
              "0         1        15  0.000e+00     40300    3.234\n",
              "1        10        15  0.000e+00     40300    5.188\n",
              "2        20        15  0.000e+00     40300    6.929\n",
              "3        40        15  0.000e+00     40300    9.618\n",
              "4        50        15  0.000e+00     40300     10.8\n",
              "5        75        15  0.000e+00     40300    14.05\n",
              "6       100        15  0.000e+00     40300    17.44"
            ]
          },
          "metadata": {
            "tags": []
          },
          "execution_count": 147
        }
      ]
    },
    {
      "metadata": {
        "id": "e3DRarAMMcdY",
        "colab_type": "text"
      },
      "cell_type": "markdown",
      "source": [
        "###Παρατηρήσεις\n",
        "\n",
        "Το να βρούμε ακριβή λύση είναι αναμενόμενο αν σκεφτεί κανείς πως σε αυτό μας βοηθά πολύ ο τελεστής μετάλλαξης (**mutUniformInt**) που έχουμε διαλέξει. Αυτός αντικαθιστά ένα γονίδιο (με πιθανότητα indpb) με έναν ακέραιο αριθμό από το διάστημα [-1,1]. Συνεπώς, κάθε φορά που γίνεται μετάλλαξη έχει να αποφασίσει ανάμεσα σε 3 αριθμούς, -1, 0, 1. Για μεγάλο πληθυσμό ή μεγάλες διαστάσεις δεν είναι καθόλου απίθανο ένα ή πειρσσότερα γονίδια ενός ατόμου να αντικατασταθούν με 0. Για πολλές γενιές δεν είναι απίθανο όλα τα γονίδια ενός ατόμου να αντικατασταθούν με 0 και ο αλγόριθμος να βρει έτσι την ακριβή λύση. \n",
        "\n",
        "Παρατηρούμε ακόμα πως ο μέσος αριθμός αποτιμήσεων είναι ίδιος για όλα τα παραδείγματα και συμπεραίνουμε πως αυτός είναι ανεξάρτητος από τις διαστάσεις. Αυτό μπορεί να συμβαίνει επειδή ο αλγόριθμός μας βρίσκει γρήγορα λύση (σε μικρό αριθμό γενεών) και σταδιακά ο πληθυσμός εξελίσσεται στον \"ανώτερο\" εξελικτικά (δηλαδή όλα τα άτομά του δίνουν το ζητούμενο ελάχιστο), συνεπώς δε χρειάζονται περαιτέρω αποτιμήσεις από εκεί και έπειτα. \n",
        "\n",
        "Όσο οι διαστάσεις αυξάνονται αυξάνεται και ο μέσος χρόνος εκτέλεσης κάθε γύρου, πράγμα επίσης αναμενόμενο.\n",
        "___\n",
        "Αν το πρόβλημά μας δεν έβρισκε τη βέλτιστη λύση, για σταθερό αριθμό γενεών και για μεγάλες διαστάσεις μια σκέψη θα ήταν να αυξήσουμε τον πληθυσμό αλλά και τους γύρους. Μεγαλύτερος πληθυσμός θα εξασφάλιζε περισσότερες αποτιμήσεις όπως και περισσότερες διασταυρώσεις και μεταλλάξεις. Ακόμα, ο μηχανισμός φυσικής επιλογής θα είχε περισσότερα άτομα από τα οποία θα μπορούσε να διαλέξει. Περισσότεροι γύροι θα εξασφάλιζαν περισσότερες ελάχιστες τιμές οι οποίες ίσως επιδρούσαν θετικά στον μέσο όρο των ελαχίστων και πλησίαζαν όλο και περισσότερο στην πραγματική του τιμή."
      ]
    }
  ]
}